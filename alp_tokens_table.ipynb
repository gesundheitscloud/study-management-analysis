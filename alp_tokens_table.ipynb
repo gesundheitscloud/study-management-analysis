{
 "cells": [
  {
   "cell_type": "code",
   "execution_count": 1,
   "id": "e5aca4ce-327b-439f-83fc-0198e948c99e",
   "metadata": {},
   "outputs": [
    {
     "data": {
      "text/html": [
       "<h1>Tokens tables by user</h1>"
      ],
      "text/plain": [
       "<IPython.core.display.HTML object>"
      ]
     },
     "metadata": {},
     "output_type": "display_data"
    },
    {
     "data": {
      "text/html": [
       "<h2>ALP</h2>"
      ],
      "text/plain": [
       "<IPython.core.display.HTML object>"
      ]
     },
     "metadata": {},
     "output_type": "display_data"
    },
    {
     "data": {
      "text/html": [
       "<table border=\"1\" class=\"dataframe\">\n",
       "  <thead>\n",
       "    <tr style=\"text-align: right;\">\n",
       "      <th></th>\n",
       "      <th>Unnamed: 0</th>\n",
       "      <th>External ID</th>\n",
       "      <th>Participation code</th>\n",
       "      <th>Status</th>\n",
       "      <th>Generated on</th>\n",
       "      <th>Last donation date</th>\n",
       "    </tr>\n",
       "  </thead>\n",
       "  <tbody>\n",
       "    <tr>\n",
       "      <th>0</th>\n",
       "      <td>1</td>\n",
       "      <td>RKI-tetiana-test-10</td>\n",
       "      <td>HIHZKUJT</td>\n",
       "      <td>In use</td>\n",
       "      <td>31.01.2022 (Mon) 13:53:18</td>\n",
       "      <td>-</td>\n",
       "    </tr>\n",
       "    <tr>\n",
       "      <th>1</th>\n",
       "      <td>2</td>\n",
       "      <td>RKI-tetiana-test-09</td>\n",
       "      <td>XAH6RWKN</td>\n",
       "      <td>In use</td>\n",
       "      <td>31.01.2022 (Mon) 13:31:49</td>\n",
       "      <td>-</td>\n",
       "    </tr>\n",
       "    <tr>\n",
       "      <th>2</th>\n",
       "      <td>3</td>\n",
       "      <td>RKI-tetiana-test-08</td>\n",
       "      <td>VCKIQCBG</td>\n",
       "      <td>In use</td>\n",
       "      <td>24.01.2022 (Mon) 14:58:42</td>\n",
       "      <td>-</td>\n",
       "    </tr>\n",
       "    <tr>\n",
       "      <th>3</th>\n",
       "      <td>4</td>\n",
       "      <td>dave-test-2</td>\n",
       "      <td>K5ZH03BQ</td>\n",
       "      <td>Generated</td>\n",
       "      <td>14.01.2022 (Fri) 16:50:54</td>\n",
       "      <td>-</td>\n",
       "    </tr>\n",
       "    <tr>\n",
       "      <th>4</th>\n",
       "      <td>5</td>\n",
       "      <td>RKI-tetiana-test-07</td>\n",
       "      <td>O2QWPDGO</td>\n",
       "      <td>In use</td>\n",
       "      <td>11.01.2022 (Tue) 13:11:58</td>\n",
       "      <td>-</td>\n",
       "    </tr>\n",
       "  </tbody>\n",
       "</table>"
      ],
      "text/plain": [
       "<IPython.core.display.HTML object>"
      ]
     },
     "metadata": {},
     "output_type": "display_data"
    },
    {
     "name": "stdout",
     "output_type": "stream",
     "text": [
      "Number of enrolled users: 1000043\n",
      "\n",
      "Number of participants with status \"in use\"\t\t: 32\n",
      "Number of participants with status \"data donated\"\t: 256\n"
     ]
    }
   ],
   "source": [
    "import os\n",
    "import sys\n",
    "import pandas as pd\n",
    "\n",
    "from lib.display import Display\n",
    "from lib.disk import Disk\n",
    "\n",
    "disk = Disk('others')   \n",
    "Display.header('Tokens tables by user', 'h1')\n",
    "\n",
    "Display.header('ALP', 'h2')\n",
    "participants_df = disk.read_by_label('alp-tokens-2022-02-21', ',')\n",
    "\n",
    "Display.frame(participants_df, 5)\n",
    "print(f'Number of enrolled users: {participants_df.shape[0]}\\n')\n",
    "\n",
    "count = participants_df[participants_df['Status'] == 'In use'].shape[0]\n",
    "print(f'Number of participants with status \"in use\"\\t\\t: {count}')\n",
    "count = participants_df[participants_df['Status'] == 'Data donated'].shape[0]\n",
    "print(f'Number of participants with status \"data donated\"\\t: {count}')"
   ]
  },
  {
   "cell_type": "code",
   "execution_count": 4,
   "id": "aad56954-324b-4b50-accc-462871675db4",
   "metadata": {},
   "outputs": [
    {
     "data": {
      "text/html": [
       "<table border=\"1\" class=\"dataframe\">\n",
       "  <thead>\n",
       "    <tr style=\"text-align: right;\">\n",
       "      <th></th>\n",
       "      <th>Unnamed: 0</th>\n",
       "      <th>External ID</th>\n",
       "      <th>Participation code</th>\n",
       "      <th>Status</th>\n",
       "      <th>Generated on</th>\n",
       "      <th>Last donation date</th>\n",
       "    </tr>\n",
       "  </thead>\n",
       "  <tbody>\n",
       "    <tr>\n",
       "      <th>43</th>\n",
       "      <td>44</td>\n",
       "      <td>RKI-panel-0999000</td>\n",
       "      <td>LIFWXQGW</td>\n",
       "      <td>Generated</td>\n",
       "      <td>19.08.2021 (Thu) 22:09:38</td>\n",
       "      <td>-</td>\n",
       "    </tr>\n",
       "    <tr>\n",
       "      <th>44</th>\n",
       "      <td>45</td>\n",
       "      <td>RKI-panel-0999001</td>\n",
       "      <td>SA5EECA4</td>\n",
       "      <td>Generated</td>\n",
       "      <td>19.08.2021 (Thu) 22:09:38</td>\n",
       "      <td>-</td>\n",
       "    </tr>\n",
       "    <tr>\n",
       "      <th>45</th>\n",
       "      <td>46</td>\n",
       "      <td>RKI-panel-0999002</td>\n",
       "      <td>FURNVW7F</td>\n",
       "      <td>Generated</td>\n",
       "      <td>19.08.2021 (Thu) 22:09:38</td>\n",
       "      <td>-</td>\n",
       "    </tr>\n",
       "    <tr>\n",
       "      <th>46</th>\n",
       "      <td>47</td>\n",
       "      <td>RKI-panel-0999003</td>\n",
       "      <td>VCZAFDYO</td>\n",
       "      <td>Generated</td>\n",
       "      <td>19.08.2021 (Thu) 22:09:38</td>\n",
       "      <td>-</td>\n",
       "    </tr>\n",
       "    <tr>\n",
       "      <th>47</th>\n",
       "      <td>48</td>\n",
       "      <td>RKI-panel-0999004</td>\n",
       "      <td>AF1QT6TD</td>\n",
       "      <td>Generated</td>\n",
       "      <td>19.08.2021 (Thu) 22:09:38</td>\n",
       "      <td>-</td>\n",
       "    </tr>\n",
       "  </tbody>\n",
       "</table>"
      ],
      "text/plain": [
       "<IPython.core.display.HTML object>"
      ]
     },
     "metadata": {},
     "output_type": "display_data"
    },
    {
     "name": "stdout",
     "output_type": "stream",
     "text": [
      "Number of enrolled users: 1000000\n",
      "\n",
      "Number of participants with status \"in use\"\t\t: 15\n",
      "Number of participants with status \"data donated\"\t: 252\n"
     ]
    }
   ],
   "source": [
    "real_df = participants_df[participants_df['External ID'].str.startswith('RKI-panel')]\n",
    "real_df = real_df[~real_df['External ID'].str.startswith('RKI-panel-cs-test')]\n",
    "\n",
    "Display.frame(real_df, 5)\n",
    "print(f'Number of enrolled users: {real_df.shape[0]}\\n')\n",
    "count = real_df[real_df['Status'] == 'In use'].shape[0]\n",
    "print(f'Number of participants with status \"in use\"\\t\\t: {count}')\n",
    "count = real_df[real_df['Status'] == 'Data donated'].shape[0]\n",
    "print(f'Number of participants with status \"data donated\"\\t: {count}')"
   ]
  },
  {
   "cell_type": "code",
   "execution_count": 5,
   "id": "3d136d29-cbe7-4b18-b090-8b7ded24f474",
   "metadata": {},
   "outputs": [
    {
     "name": "stdout",
     "output_type": "stream",
     "text": [
      "Number of enrolled users: 41\n",
      "\n",
      "Number of participants with status \"in use\"\t\t: 15\n",
      "Number of participants with status \"data donated\"\t: 4\n"
     ]
    },
    {
     "data": {
      "text/html": [
       "<table border=\"1\" class=\"dataframe\">\n",
       "  <thead>\n",
       "    <tr style=\"text-align: right;\">\n",
       "      <th></th>\n",
       "      <th>Unnamed: 0</th>\n",
       "      <th>External ID</th>\n",
       "      <th>Participation code</th>\n",
       "      <th>Status</th>\n",
       "      <th>Generated on</th>\n",
       "      <th>Last donation date</th>\n",
       "    </tr>\n",
       "  </thead>\n",
       "  <tbody>\n",
       "    <tr>\n",
       "      <th>10</th>\n",
       "      <td>11</td>\n",
       "      <td>RKI-hps-test-01</td>\n",
       "      <td>TIRVWPTM</td>\n",
       "      <td>Data donated</td>\n",
       "      <td>05.01.2022 (Wed) 16:16:34</td>\n",
       "      <td>06.01.2022 (Thu)</td>\n",
       "    </tr>\n",
       "    <tr>\n",
       "      <th>28</th>\n",
       "      <td>29</td>\n",
       "      <td>RKI-test-04</td>\n",
       "      <td>UMVBLCBH</td>\n",
       "      <td>Data donated</td>\n",
       "      <td>04.10.2021 (Mon) 14:42:51</td>\n",
       "      <td>05.10.2021 (Tue)</td>\n",
       "    </tr>\n",
       "    <tr>\n",
       "      <th>29</th>\n",
       "      <td>30</td>\n",
       "      <td>RKI-test-03</td>\n",
       "      <td>56UAUGFI</td>\n",
       "      <td>Data donated</td>\n",
       "      <td>04.10.2021 (Mon) 14:42:43</td>\n",
       "      <td>08.10.2021 (Fri)</td>\n",
       "    </tr>\n",
       "    <tr>\n",
       "      <th>30</th>\n",
       "      <td>31</td>\n",
       "      <td>RKI-test-02</td>\n",
       "      <td>BGVHMLEL</td>\n",
       "      <td>Data donated</td>\n",
       "      <td>04.10.2021 (Mon) 14:40:55</td>\n",
       "      <td>12.10.2021 (Tue)</td>\n",
       "    </tr>\n",
       "  </tbody>\n",
       "</table>"
      ],
      "text/plain": [
       "<IPython.core.display.HTML object>"
      ]
     },
     "metadata": {},
     "output_type": "display_data"
    }
   ],
   "source": [
    "test_df = participants_df[(~participants_df['External ID'].str.startswith('RKI-panel')) | (real_df['External ID'].str.startswith('RKI-panel-cs-test'))]\n",
    "\n",
    "print(f'Number of enrolled users: {test_df.shape[0]}\\n')\n",
    "count = test_df[test_df['Status'] == 'In use'].shape[0]\n",
    "print(f'Number of participants with status \"in use\"\\t\\t: {count}')\n",
    "count = test_df[test_df['Status'] == 'Data donated'].shape[0]\n",
    "print(f'Number of participants with status \"data donated\"\\t: {count}')\n",
    "\n",
    "Display.frame(test_df[test_df['Status'] == 'Data donated'], 5)"
   ]
  },
  {
   "cell_type": "code",
   "execution_count": 6,
   "id": "5241c571-22ca-4639-ab67-54f60a3f139a",
   "metadata": {},
   "outputs": [
    {
     "data": {
      "text/html": [
       "<h1>Aggregated token tables by user</h1>"
      ],
      "text/plain": [
       "<IPython.core.display.HTML object>"
      ]
     },
     "metadata": {},
     "output_type": "display_data"
    },
    {
     "data": {
      "text/html": [
       "<h2>ALP</h2>"
      ],
      "text/plain": [
       "<IPython.core.display.HTML object>"
      ]
     },
     "metadata": {},
     "output_type": "display_data"
    },
    {
     "data": {
      "text/html": [
       "<table border=\"1\" class=\"dataframe\">\n",
       "  <thead>\n",
       "    <tr style=\"text-align: right;\">\n",
       "      <th></th>\n",
       "      <th>Date</th>\n",
       "      <th>Users</th>\n",
       "    </tr>\n",
       "  </thead>\n",
       "  <tbody>\n",
       "    <tr>\n",
       "      <th>0</th>\n",
       "      <td>2021-10-05</td>\n",
       "      <td>1</td>\n",
       "    </tr>\n",
       "    <tr>\n",
       "      <th>1</th>\n",
       "      <td>2021-10-08</td>\n",
       "      <td>1</td>\n",
       "    </tr>\n",
       "    <tr>\n",
       "      <th>2</th>\n",
       "      <td>2021-10-12</td>\n",
       "      <td>1</td>\n",
       "    </tr>\n",
       "    <tr>\n",
       "      <th>3</th>\n",
       "      <td>2021-12-21</td>\n",
       "      <td>1</td>\n",
       "    </tr>\n",
       "    <tr>\n",
       "      <th>4</th>\n",
       "      <td>2021-12-22</td>\n",
       "      <td>1</td>\n",
       "    </tr>\n",
       "  </tbody>\n",
       "</table>"
      ],
      "text/plain": [
       "<IPython.core.display.HTML object>"
      ]
     },
     "metadata": {},
     "output_type": "display_data"
    },
    {
     "name": "stdout",
     "output_type": "stream",
     "text": [
      "Number of enrolled users with data: 256\n",
      "Number of enrolled users without data: 32\n",
      "Note: Users without data do not have a donation or enrollment date\n"
     ]
    }
   ],
   "source": [
    "Display.header('Aggregated token tables by user', 'h1')\n",
    "\n",
    "Display.header('ALP', 'h2')\n",
    "WITH_DONATION = 'Data donated'\n",
    "df = participants_df[participants_df['Status'] == WITH_DONATION].copy()\n",
    "df['donation date'] = pd.to_datetime(df['Last donation date'], format='%d.%m.%Y (%a)')\n",
    "df = df.groupby(['donation date']).size().reset_index(name='Users').rename(columns={'donation date':'Date'})\n",
    "df = df.reset_index()[['Date', 'Users']]\n",
    "alp_df = df.sort_values(by=['Date'])\n",
    "Display.frame(alp_df,5)\n",
    "\n",
    "count = alp_df['Users'].sum()\n",
    "print(f'Number of enrolled users with data: {count}')\n",
    "count = participants_df[participants_df['Status'] == 'In use'].shape[0]\n",
    "print(f'Number of enrolled users without data: {count}')\n",
    "print('Note: Users without data do not have a donation or enrollment date')"
   ]
  },
  {
   "cell_type": "code",
   "execution_count": 7,
   "id": "fb327b2a-6b3a-4e4d-9023-dc7174691564",
   "metadata": {},
   "outputs": [
    {
     "name": "stdout",
     "output_type": "stream",
     "text": [
      "How many codes were generated from the list? 15\n",
      "How many codes were used from the list? 1\n"
     ]
    },
    {
     "data": {
      "text/html": [
       "<table border=\"1\" class=\"dataframe\">\n",
       "  <thead>\n",
       "    <tr style=\"text-align: right;\">\n",
       "      <th></th>\n",
       "      <th>Unnamed: 0</th>\n",
       "      <th>External ID</th>\n",
       "      <th>Participation code</th>\n",
       "      <th>Status</th>\n",
       "      <th>Generated on</th>\n",
       "      <th>Last donation date</th>\n",
       "    </tr>\n",
       "  </thead>\n",
       "  <tbody>\n",
       "    <tr>\n",
       "      <th>955150</th>\n",
       "      <td>955151</td>\n",
       "      <td>RKI-panel-0045203</td>\n",
       "      <td>FEOV09WV</td>\n",
       "      <td>Data donated</td>\n",
       "      <td>19.08.2021 (Thu) 17:04:52</td>\n",
       "      <td>09.02.2022 (Wed)</td>\n",
       "    </tr>\n",
       "  </tbody>\n",
       "</table>"
      ],
      "text/plain": [
       "<IPython.core.display.HTML object>"
      ]
     },
     "metadata": {},
     "output_type": "display_data"
    }
   ],
   "source": [
    "codes = ['1NR3VTS6', '6EXNTTRI', '9GKOHXAS', 'BVOQMVJT', \n",
    "         'DJO1QREN', 'DYCJ4KNZ', 'ESG6LFOI', 'FEOV09WV', \n",
    "         'JLVCBSX1', 'M3SRWIXZ', 'NWAVBAAW', 'R1PDEVXU', \n",
    "         'SDW6WZN0', 'ZUZ1APSZ', 'ZVO3ZGTH']\n",
    "\n",
    "df = participants_df[participants_df['Participation code'].isin(codes)]\n",
    "print(f'How many codes were generated from the list? {len(df)}')\n",
    "\n",
    "df = df[df['Status'] != 'Generated']\n",
    "print(f'How many codes were used from the list? {len(df)}')\n",
    "Display.frame(df, 10)"
   ]
  },
  {
   "cell_type": "code",
   "execution_count": null,
   "id": "2ed2c312-af6c-4ce8-bd50-342efb2b49dc",
   "metadata": {},
   "outputs": [],
   "source": []
  }
 ],
 "metadata": {
  "kernelspec": {
   "display_name": "Python 3 (ipykernel)",
   "language": "python",
   "name": "python3"
  },
  "language_info": {
   "codemirror_mode": {
    "name": "ipython",
    "version": 3
   },
   "file_extension": ".py",
   "mimetype": "text/x-python",
   "name": "python",
   "nbconvert_exporter": "python",
   "pygments_lexer": "ipython3",
   "version": "3.8.1"
  }
 },
 "nbformat": 4,
 "nbformat_minor": 5
}
