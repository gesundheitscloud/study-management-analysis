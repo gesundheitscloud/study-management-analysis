{
 "cells": [
  {
   "cell_type": "code",
   "execution_count": 1,
   "id": "43ec73aa-53ba-48c5-a509-fe9b32e9f117",
   "metadata": {},
   "outputs": [
    {
     "data": {
      "text/html": [
       "<h1>Challenges</h1>"
      ],
      "text/plain": [
       "<IPython.core.display.HTML object>"
      ]
     },
     "metadata": {},
     "output_type": "display_data"
    },
    {
     "data": {
      "text/html": [
       "<table border=\"1\" class=\"dataframe\">\n",
       "  <thead>\n",
       "    <tr style=\"text-align: right;\">\n",
       "      <th></th>\n",
       "      <th>account_id</th>\n",
       "      <th>value</th>\n",
       "    </tr>\n",
       "  </thead>\n",
       "  <tbody>\n",
       "    <tr>\n",
       "      <th>0</th>\n",
       "      <td>b28b8e65-131d-4d5e-972f-667f5a3e6f09</td>\n",
       "      <td>{\"ecov\": [{\"name\": \"activate-challenges\", \"completedAt\": \"2022-01-11T13:22:16.083Z\"}, {\"name\": \"vaccination\", \"completedAt\": \"2022-01-11T13:22:16.672Z\"}]}</td>\n",
       "    </tr>\n",
       "    <tr>\n",
       "      <th>1</th>\n",
       "      <td>007082be-12d2-4cce-a82d-9ce5eface27f</td>\n",
       "      <td>{\"ecov\": [{\"name\": \"activate-challenges\", \"completedAt\": \"2022-01-14T09:46:50.794Z\"}, {\"name\": \"vaccination\", \"completedAt\": \"2022-01-14T09:46:51.288Z\"}]}</td>\n",
       "    </tr>\n",
       "    <tr>\n",
       "      <th>2</th>\n",
       "      <td>d4dff97a-16f7-4f99-9d0e-0b0e16124036</td>\n",
       "      <td>{\"ecov\": [{\"name\": \"activate-challenges\", \"completedAt\": \"2022-01-12T20:46:28.136Z\"}, {\"name\": \"vaccination\", \"completedAt\": \"2022-01-12T20:46:29.123Z\"}]}</td>\n",
       "    </tr>\n",
       "    <tr>\n",
       "      <th>3</th>\n",
       "      <td>2650886b-d454-4397-b3b5-c91f735dcb47</td>\n",
       "      <td>{\"ecov\": [{\"name\": \"activate-challenges\", \"completedAt\": \"2022-01-12T09:47:54.602Z\"}, {\"name\": \"vaccination\", \"completedAt\": \"2022-01-12T09:47:55.271Z\"}]}</td>\n",
       "    </tr>\n",
       "    <tr>\n",
       "      <th>4</th>\n",
       "      <td>83225437-1b2c-4f76-afff-860e39e69ffa</td>\n",
       "      <td>{\"ecov\": [{\"name\": \"activate-challenges\", \"completedAt\": \"2022-01-12T09:48:20.233Z\"}, {\"name\": \"vaccination\", \"completedAt\": \"2022-01-12T09:48:20.604Z\"}]}</td>\n",
       "    </tr>\n",
       "  </tbody>\n",
       "</table>"
      ],
      "text/plain": [
       "<IPython.core.display.HTML object>"
      ]
     },
     "metadata": {},
     "output_type": "display_data"
    }
   ],
   "source": [
    "import os\n",
    "import sys\n",
    "import pandas as pd\n",
    "\n",
    "from lib.display import Display\n",
    "from lib.disk import Disk\n",
    "\n",
    "Display.header('Challenges', 'h1')\n",
    "\n",
    "disk = Disk('others')\n",
    "table_df = disk.read_by_label('challenges-2022-01-28', '|')\n",
    "table_df.columns = table_df.columns.str.replace(' ', '')\n",
    "table_df = table_df.drop([0, 1]).reset_index(drop=True)\n",
    "\n",
    "Display.frame(table_df, 5)"
   ]
  },
  {
   "cell_type": "code",
   "execution_count": 4,
   "id": "aa5f60ad-8575-4c8e-afce-7e6b933f5ab0",
   "metadata": {},
   "outputs": [
    {
     "data": {
      "text/html": [
       "<table border=\"1\" class=\"dataframe\">\n",
       "  <thead>\n",
       "    <tr style=\"text-align: right;\">\n",
       "      <th></th>\n",
       "      <th>account_id</th>\n",
       "      <th>value</th>\n",
       "      <th>activation</th>\n",
       "      <th>c1</th>\n",
       "      <th>c2</th>\n",
       "      <th>c3</th>\n",
       "      <th>c4</th>\n",
       "    </tr>\n",
       "  </thead>\n",
       "  <tbody>\n",
       "    <tr>\n",
       "      <th>0</th>\n",
       "      <td>b28b8e65-131d-4d5e-972f-667f5a3e6f09</td>\n",
       "      <td>{\"ecov\": [{\"name\": \"activate-challenges\", \"completedAt\": \"2022-01-11T13:22:16.083Z\"}, {\"name\": \"vaccination\", \"completedAt\": \"2022-01-11T13:22:16.672Z\"}]}</td>\n",
       "      <td>2022-01-11</td>\n",
       "      <td>2022-01-11</td>\n",
       "      <td>None</td>\n",
       "      <td>None</td>\n",
       "      <td>None</td>\n",
       "    </tr>\n",
       "    <tr>\n",
       "      <th>1</th>\n",
       "      <td>007082be-12d2-4cce-a82d-9ce5eface27f</td>\n",
       "      <td>{\"ecov\": [{\"name\": \"activate-challenges\", \"completedAt\": \"2022-01-14T09:46:50.794Z\"}, {\"name\": \"vaccination\", \"completedAt\": \"2022-01-14T09:46:51.288Z\"}]}</td>\n",
       "      <td>2022-01-14</td>\n",
       "      <td>2022-01-14</td>\n",
       "      <td>None</td>\n",
       "      <td>None</td>\n",
       "      <td>None</td>\n",
       "    </tr>\n",
       "    <tr>\n",
       "      <th>2</th>\n",
       "      <td>d4dff97a-16f7-4f99-9d0e-0b0e16124036</td>\n",
       "      <td>{\"ecov\": [{\"name\": \"activate-challenges\", \"completedAt\": \"2022-01-12T20:46:28.136Z\"}, {\"name\": \"vaccination\", \"completedAt\": \"2022-01-12T20:46:29.123Z\"}]}</td>\n",
       "      <td>2022-01-12</td>\n",
       "      <td>2022-01-12</td>\n",
       "      <td>None</td>\n",
       "      <td>None</td>\n",
       "      <td>None</td>\n",
       "    </tr>\n",
       "    <tr>\n",
       "      <th>3</th>\n",
       "      <td>2650886b-d454-4397-b3b5-c91f735dcb47</td>\n",
       "      <td>{\"ecov\": [{\"name\": \"activate-challenges\", \"completedAt\": \"2022-01-12T09:47:54.602Z\"}, {\"name\": \"vaccination\", \"completedAt\": \"2022-01-12T09:47:55.271Z\"}]}</td>\n",
       "      <td>2022-01-12</td>\n",
       "      <td>2022-01-12</td>\n",
       "      <td>None</td>\n",
       "      <td>None</td>\n",
       "      <td>None</td>\n",
       "    </tr>\n",
       "  </tbody>\n",
       "</table>"
      ],
      "text/plain": [
       "<IPython.core.display.HTML object>"
      ]
     },
     "metadata": {},
     "output_type": "display_data"
    },
    {
     "name": "stdout",
     "output_type": "stream",
     "text": [
      "Activated challenges: 1000\n",
      "Completion of 1st challenge: 936\n",
      "Completion of 2nd challenge: 263\n",
      "Completion of 3rd challenge: 119\n",
      "Completion of 4th challenge: 51\n"
     ]
    },
    {
     "data": {
      "text/html": [
       "<table border=\"1\" class=\"dataframe\">\n",
       "  <thead>\n",
       "    <tr style=\"text-align: right;\">\n",
       "      <th></th>\n",
       "      <th>account_id</th>\n",
       "      <th>value</th>\n",
       "      <th>activation</th>\n",
       "      <th>c1</th>\n",
       "      <th>c2</th>\n",
       "      <th>c3</th>\n",
       "      <th>c4</th>\n",
       "    </tr>\n",
       "  </thead>\n",
       "  <tbody>\n",
       "    <tr>\n",
       "      <th>81</th>\n",
       "      <td>c38bac12-1c21-4874-aaee-594768d9755e</td>\n",
       "      <td>{\"ecov\": [{\"name\": \"sharing\", \"completedAt\": \"9. November 2021\"}, {\"name\": \"activate-challenges\", \"completedAt\": \"9. November 2021\"}, {\"name\": \"vaccination\", \"completedAt\": \"9. November 2021\"}, {\"name\": \"follow-up\", \"completedAt\": \"10. November 2021\"}]}</td>\n",
       "      <td>2021-11-09</td>\n",
       "      <td>2021-11-09</td>\n",
       "      <td>None</td>\n",
       "      <td>2021-11-09</td>\n",
       "      <td>2021-11-10</td>\n",
       "    </tr>\n",
       "    <tr>\n",
       "      <th>123</th>\n",
       "      <td>f0190f16-e748-424e-9a3d-7b7d52f69ab9</td>\n",
       "      <td>{\"ecov\": [{\"name\": \"sharing\", \"completedAt\": \"11. November 2021\"}]}</td>\n",
       "      <td>None</td>\n",
       "      <td>None</td>\n",
       "      <td>None</td>\n",
       "      <td>2021-11-11</td>\n",
       "      <td>None</td>\n",
       "    </tr>\n",
       "    <tr>\n",
       "      <th>131</th>\n",
       "      <td>3f6a8197-29f4-4caf-95b2-b15b2acead9a</td>\n",
       "      <td>{\"ecov\": [{\"name\": \"sharing\", \"completedAt\": \"12. November 2021\"}, {\"name\": \"activate-challenges\", \"completedAt\": \"12. November 2021\"}, {\"name\": \"vaccination\", \"completedAt\": \"12. November 2021\"}]}</td>\n",
       "      <td>2021-11-12</td>\n",
       "      <td>2021-11-12</td>\n",
       "      <td>None</td>\n",
       "      <td>2021-11-12</td>\n",
       "      <td>None</td>\n",
       "    </tr>\n",
       "    <tr>\n",
       "      <th>137</th>\n",
       "      <td>3190362b-d4ac-40a3-9ef7-1c98d72829fa</td>\n",
       "      <td>{\"ecov\": [{\"name\": \"sharing\", \"completedAt\": \"13. November 2021\"}, {\"name\": \"activate-challenges\", \"completedAt\": \"13. November 2021\"}, {\"name\": \"vaccination\", \"completedAt\": \"13. November 2021\"}]}</td>\n",
       "      <td>2021-11-13</td>\n",
       "      <td>2021-11-13</td>\n",
       "      <td>None</td>\n",
       "      <td>2021-11-13</td>\n",
       "      <td>None</td>\n",
       "    </tr>\n",
       "  </tbody>\n",
       "</table>"
      ],
      "text/plain": [
       "<IPython.core.display.HTML object>"
      ]
     },
     "metadata": {},
     "output_type": "display_data"
    },
    {
     "name": "stdout",
     "output_type": "stream",
     "text": [
      "Problematic status for 70 users\n"
     ]
    }
   ],
   "source": [
    "import json\n",
    "from dateutil.parser import parse\n",
    "\n",
    "def fix_date_value(s):\n",
    "    s = s.replace('Dezember', 'December')\n",
    "    return parse(s).strftime('%Y-%m-%d')\n",
    "\n",
    "def parse_value(s):\n",
    "    y = json.loads(s)\n",
    "    d = {}\n",
    "    for e in y['ecov']:\n",
    "        key = e['name']\n",
    "        value = fix_date_value(e['completedAt'])\n",
    "        d[key] = value\n",
    "    return d\n",
    "\n",
    "def get_challenge_name(value, s):\n",
    "    d = parse_value(value)\n",
    "    return d[s] if s in d.keys() else None\n",
    "\n",
    "# df = table_df[['account_id']]\n",
    "df = table_df.copy()\n",
    "df['activation'] = table_df.apply(lambda row : get_challenge_name(row['value'], 'activate-challenges'), axis = 1)\n",
    "df['c1'] = table_df.apply(lambda row : get_challenge_name(row['value'], 'vaccination'), axis = 1)\n",
    "df['c2'] = table_df.apply(lambda row : get_challenge_name(row['value'], 'activity'), axis = 1)\n",
    "df['c3'] = table_df.apply(lambda row : get_challenge_name(row['value'], 'sharing'), axis = 1)\n",
    "df['c4'] = table_df.apply(lambda row : get_challenge_name(row['value'], 'follow-up'), axis = 1)\n",
    "\n",
    "Display.frame(df, 4)\n",
    "\n",
    "print(f'Activated challenges: {df[~pd.isnull(df[\"activation\"])].shape[0]}')\n",
    "print(f'Completion of 1st challenge: {df[~pd.isnull(df[\"c1\"])].shape[0]}')\n",
    "print(f'Completion of 2nd challenge: {df[~pd.isnull(df[\"c2\"])].shape[0]}')\n",
    "print(f'Completion of 3rd challenge: {df[~pd.isnull(df[\"c3\"])].shape[0]}')\n",
    "print(f'Completion of 4th challenge: {df[~pd.isnull(df[\"c4\"])].shape[0]}')\n",
    "\n",
    "wrong_order_df = df[(\n",
    "    (pd.isnull(df[\"c1\"]) & (~pd.isnull(df[\"c2\"]) | ~pd.isnull(df[\"c3\"]) | (~pd.isnull(df[\"c4\"])))) |\n",
    "    (pd.isnull(df[\"c2\"]) & (~pd.isnull(df[\"c3\"]) | ~pd.isnull(df[\"c4\"]))) |\n",
    "    (pd.isnull(df[\"c3\"]) & ~pd.isnull(df[\"c4\"]))\n",
    ")]\n",
    "\n",
    "Display.frame(wrong_order_df, 4)\n",
    "print(f'Problematic status for {wrong_order_df.shape[0]} users')"
   ]
  },
  {
   "cell_type": "code",
   "execution_count": 5,
   "id": "36898af7-8cc5-4564-883d-d11df6f217b2",
   "metadata": {},
   "outputs": [
    {
     "name": "stdout",
     "output_type": "stream",
     "text": [
      "Completed 2nd/3rd/4th without the 1st challenge: 25\n",
      "Completed 3rd/4th without the 2nd challenge: 70\n",
      "Completed 4th without the 3rd challenge: 0\n"
     ]
    }
   ],
   "source": [
    "wo_df1 = df[(pd.isnull(df[\"c1\"]) & (~pd.isnull(df[\"c2\"]) | ~pd.isnull(df[\"c3\"]) | (~pd.isnull(df[\"c4\"]))))]\n",
    "print(f'Completed 2nd/3rd/4th without the 1st challenge: {wo_df1.shape[0]}')\n",
    "wo_df2 = df[(pd.isnull(df[\"c2\"]) & (~pd.isnull(df[\"c3\"]) | ~pd.isnull(df[\"c4\"])))]\n",
    "print(f'Completed 3rd/4th without the 2nd challenge: {wo_df2.shape[0]}')\n",
    "wo_df3 = df[(pd.isnull(df[\"c3\"]) & ~pd.isnull(df[\"c4\"]))]\n",
    "print(f'Completed 4th without the 3rd challenge: {wo_df3.shape[0]}')"
   ]
  },
  {
   "cell_type": "code",
   "execution_count": 6,
   "id": "bed3a1d2-a9a7-417f-8e2e-7d880400be1d",
   "metadata": {},
   "outputs": [
    {
     "data": {
      "text/plain": [
       "25"
      ]
     },
     "execution_count": 6,
     "metadata": {},
     "output_type": "execute_result"
    }
   ],
   "source": [
    "df[(pd.isnull(df[\"c1\"]) & (~pd.isnull(df[\"c3\"])))].shape[0]"
   ]
  },
  {
   "cell_type": "code",
   "execution_count": 7,
   "id": "594558f6-dfbe-4bb6-8b7c-21ad194e5abf",
   "metadata": {},
   "outputs": [
    {
     "data": {
      "text/plain": [
       "70"
      ]
     },
     "execution_count": 7,
     "metadata": {},
     "output_type": "execute_result"
    }
   ],
   "source": [
    "df[(pd.isnull(df[\"c2\"]) & (~pd.isnull(df[\"c3\"])))].shape[0]"
   ]
  }
 ],
 "metadata": {
  "kernelspec": {
   "display_name": "Python 3 (ipykernel)",
   "language": "python",
   "name": "python3"
  },
  "language_info": {
   "codemirror_mode": {
    "name": "ipython",
    "version": 3
   },
   "file_extension": ".py",
   "mimetype": "text/x-python",
   "name": "python",
   "nbconvert_exporter": "python",
   "pygments_lexer": "ipython3",
   "version": "3.8.1"
  }
 },
 "nbformat": 4,
 "nbformat_minor": 5
}
