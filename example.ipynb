{
 "cells": [
  {
   "cell_type": "code",
   "execution_count": 1,
   "id": "bb3ce537-49b9-4ccc-b4bb-3d7eed44c668",
   "metadata": {},
   "outputs": [],
   "source": [
    "import os\n",
    "import sys\n",
    "import pandas as pd\n",
    "# !{sys.executable} -m pip install python-csv\n",
    "# !{sys.executable} -m pip install --upgrade pip\n",
    "# !{sys.executable} -m pip install pandas;\n",
    "# print(pd.__version__)"
   ]
  },
  {
   "cell_type": "code",
   "execution_count": 2,
   "id": "205f5359-8774-4bce-9786-15ad245525de",
   "metadata": {},
   "outputs": [
    {
     "data": {
      "text/html": [
       "<h1>EXAMPLE study on ALP</h1>"
      ],
      "text/plain": [
       "<IPython.core.display.HTML object>"
      ]
     },
     "metadata": {},
     "output_type": "display_data"
    },
    {
     "data": {
      "text/html": [
       "<h3>Participants</h3>"
      ],
      "text/plain": [
       "<IPython.core.display.HTML object>"
      ]
     },
     "metadata": {},
     "output_type": "display_data"
    },
    {
     "data": {
      "text/html": [
       "<table border=\"1\" class=\"dataframe\">\n",
       "  <thead>\n",
       "    <tr style=\"text-align: right;\">\n",
       "      <th></th>\n",
       "      <th>ALP_ID</th>\n",
       "      <th>EXTERNAL_ID</th>\n",
       "      <th>STATUS</th>\n",
       "      <th>START_DATE</th>\n",
       "      <th>END_DATE</th>\n",
       "    </tr>\n",
       "  </thead>\n",
       "  <tbody>\n",
       "    <tr>\n",
       "      <th>0</th>\n",
       "      <td>1017</td>\n",
       "      <td>uninklinik_87</td>\n",
       "      <td>enrolled</td>\n",
       "      <td>2021-02-02</td>\n",
       "      <td>NaT</td>\n",
       "    </tr>\n",
       "    <tr>\n",
       "      <th>1</th>\n",
       "      <td>1011</td>\n",
       "      <td>test_user_57</td>\n",
       "      <td>enrolled</td>\n",
       "      <td>2021-02-05</td>\n",
       "      <td>NaT</td>\n",
       "    </tr>\n",
       "    <tr>\n",
       "      <th>2</th>\n",
       "      <td>1010</td>\n",
       "      <td>uninklinik_52</td>\n",
       "      <td>enrolled</td>\n",
       "      <td>2021-02-22</td>\n",
       "      <td>NaT</td>\n",
       "    </tr>\n",
       "    <tr>\n",
       "      <th>3</th>\n",
       "      <td>1019</td>\n",
       "      <td>uninklinik_97</td>\n",
       "      <td>enrolled</td>\n",
       "      <td>2021-04-07</td>\n",
       "      <td>NaT</td>\n",
       "    </tr>\n",
       "    <tr>\n",
       "      <th>4</th>\n",
       "      <td>1003</td>\n",
       "      <td>uninklinik_17</td>\n",
       "      <td>suspended</td>\n",
       "      <td>2021-05-07</td>\n",
       "      <td>2022-03-31</td>\n",
       "    </tr>\n",
       "  </tbody>\n",
       "</table>"
      ],
      "text/plain": [
       "<IPython.core.display.HTML object>"
      ]
     },
     "metadata": {},
     "output_type": "display_data"
    },
    {
     "name": "stdout",
     "output_type": "stream",
     "text": [
      "Number of participants: 20\n"
     ]
    },
    {
     "data": {
      "text/html": [
       "<h3>Responses</h3>"
      ],
      "text/plain": [
       "<IPython.core.display.HTML object>"
      ]
     },
     "metadata": {},
     "output_type": "display_data"
    },
    {
     "data": {
      "text/html": [
       "<table border=\"1\" class=\"dataframe\">\n",
       "  <thead>\n",
       "    <tr style=\"text-align: right;\">\n",
       "      <th></th>\n",
       "      <th>ALP_ID</th>\n",
       "      <th>VERSION</th>\n",
       "      <th>QUESTIONNAIRE</th>\n",
       "      <th>STATUS</th>\n",
       "      <th>AUTHORED</th>\n",
       "      <th>LINK_ID</th>\n",
       "      <th>VALUE</th>\n",
       "      <th>VALUECODING_CODE</th>\n",
       "      <th>LANGUAGE</th>\n",
       "      <th>TEXT</th>\n",
       "    </tr>\n",
       "  </thead>\n",
       "  <tbody>\n",
       "    <tr>\n",
       "      <th>0</th>\n",
       "      <td>1001</td>\n",
       "      <td>1.0.0</td>\n",
       "      <td>S1</td>\n",
       "      <td>completed</td>\n",
       "      <td>2021-08-22</td>\n",
       "      <td>Sex</td>\n",
       "      <td>NaN</td>\n",
       "      <td>female</td>\n",
       "      <td>de</td>\n",
       "      <td>Welches Geschlecht wurde bei Ihrer Geburt in Ihre Geburtsurkunde eingetragen?</td>\n",
       "    </tr>\n",
       "    <tr>\n",
       "      <th>1</th>\n",
       "      <td>1001</td>\n",
       "      <td>1.0.0</td>\n",
       "      <td>S1</td>\n",
       "      <td>completed</td>\n",
       "      <td>2021-08-22</td>\n",
       "      <td>Sex_A</td>\n",
       "      <td>NaN</td>\n",
       "      <td>diverse</td>\n",
       "      <td>de</td>\n",
       "      <td>Da sich nicht alle Menschen ihrem eingetragenen Geschlecht zugehörig fühlen: Welchem Geschlecht fühlen Sie sich zugehörig?</td>\n",
       "    </tr>\n",
       "    <tr>\n",
       "      <th>2</th>\n",
       "      <td>1001</td>\n",
       "      <td>1.0.0</td>\n",
       "      <td>S1</td>\n",
       "      <td>completed</td>\n",
       "      <td>2021-08-22</td>\n",
       "      <td>Gebm_Gebj</td>\n",
       "      <td>1933-05</td>\n",
       "      <td>NaN</td>\n",
       "      <td>de</td>\n",
       "      <td>Wann sind Sie geboren? Bitte geben Sie den Monat und das Jahr an, in dem Sie geboren wurden.</td>\n",
       "    </tr>\n",
       "    <tr>\n",
       "      <th>3</th>\n",
       "      <td>1001</td>\n",
       "      <td>1.0.0</td>\n",
       "      <td>S1</td>\n",
       "      <td>completed</td>\n",
       "      <td>2021-08-22</td>\n",
       "      <td>HS1</td>\n",
       "      <td>NaN</td>\n",
       "      <td>moderate</td>\n",
       "      <td>de</td>\n",
       "      <td>Wie ist Ihr Gesundheitszustand im Allgemeinen?  Er ist...</td>\n",
       "    </tr>\n",
       "    <tr>\n",
       "      <th>4</th>\n",
       "      <td>1001</td>\n",
       "      <td>1.0.0</td>\n",
       "      <td>S1</td>\n",
       "      <td>completed</td>\n",
       "      <td>2021-08-22</td>\n",
       "      <td>CD1A</td>\n",
       "      <td>NaN</td>\n",
       "      <td>no</td>\n",
       "      <td>de</td>\n",
       "      <td>Es geht nun um dauerhafte Krankheiten und chronische Gesundheitsprobleme. Bitte berücksichtigen Sie dabei keine vorübergehenden gesundheitlichen Probleme.  Hatten Sie in den letzten 12 Monaten eine der folgenden Krankheiten oder Beschwerden?  Arthrose. Nicht gemeint ist Arthritis bzw. Gelenksentzündung.</td>\n",
       "    </tr>\n",
       "  </tbody>\n",
       "</table>"
      ],
      "text/plain": [
       "<IPython.core.display.HTML object>"
      ]
     },
     "metadata": {},
     "output_type": "display_data"
    },
    {
     "name": "stdout",
     "output_type": "stream",
     "text": [
      "Number of responses: 406\n"
     ]
    }
   ],
   "source": [
    "from lib.display import Display\n",
    "from lib.database import Database\n",
    "from lib.schema import Schema\n",
    "\n",
    "db = Database(Schema.EXAMPLE_STUDY)   \n",
    "Display.header('EXAMPLE study on ALP', 'h1')\n",
    "\n",
    "Display.header('Participants', 'h3')\n",
    "participants_df = db.get_participants()\n",
    "Display.frame(participants_df, 5)\n",
    "print('Number of participants:', participants_df.shape[0])\n",
    "\n",
    "Display.header('Responses', 'h3')\n",
    "responses_df = db.get_responses()\n",
    "Display.frame(responses_df.drop(columns=['QUESTIONNAIRE_ID']), 5)\n",
    "print('Number of responses:', responses_df.shape[0])"
   ]
  },
  {
   "cell_type": "code",
   "execution_count": 6,
   "id": "df3b2a7b-542a-4d2e-a12d-c1483d49c962",
   "metadata": {},
   "outputs": [
    {
     "data": {
      "text/html": [
       "<table border=\"1\" class=\"dataframe\">\n",
       "  <thead>\n",
       "    <tr style=\"text-align: right;\">\n",
       "      <th></th>\n",
       "      <th>ALP_ID</th>\n",
       "      <th>EXTERNAL_ID</th>\n",
       "      <th>STATUS</th>\n",
       "      <th>START_DATE</th>\n",
       "      <th>END_DATE</th>\n",
       "      <th>ENROLED_ON</th>\n",
       "      <th>LAST_DONATION</th>\n",
       "      <th>all</th>\n",
       "      <th>Q1</th>\n",
       "      <th>GENDER</th>\n",
       "      <th>BIRTH_DATE</th>\n",
       "    </tr>\n",
       "  </thead>\n",
       "  <tbody>\n",
       "    <tr>\n",
       "      <th>0</th>\n",
       "      <td>1312</td>\n",
       "      <td>uninklinik_1562</td>\n",
       "      <td>enrolled</td>\n",
       "      <td>2021-01-01</td>\n",
       "      <td>NaT</td>\n",
       "      <td>2021-01-01</td>\n",
       "      <td>2021-01-01</td>\n",
       "      <td>1</td>\n",
       "      <td>1</td>\n",
       "      <td>male</td>\n",
       "      <td>2001-07</td>\n",
       "    </tr>\n",
       "    <tr>\n",
       "      <th>1</th>\n",
       "      <td>1018</td>\n",
       "      <td>uninklinik_92</td>\n",
       "      <td>suspended</td>\n",
       "      <td>2021-01-02</td>\n",
       "      <td>2022-03-31</td>\n",
       "      <td>2021-01-02</td>\n",
       "      <td>2021-01-02</td>\n",
       "      <td>1</td>\n",
       "      <td>1</td>\n",
       "      <td>female</td>\n",
       "      <td>1953-07</td>\n",
       "    </tr>\n",
       "    <tr>\n",
       "      <th>2</th>\n",
       "      <td>1115</td>\n",
       "      <td>uninklinik_577</td>\n",
       "      <td>enrolled</td>\n",
       "      <td>2021-01-02</td>\n",
       "      <td>NaT</td>\n",
       "      <td>2021-01-02</td>\n",
       "      <td>2021-01-02</td>\n",
       "      <td>1</td>\n",
       "      <td>1</td>\n",
       "      <td>male</td>\n",
       "      <td>1931-06</td>\n",
       "    </tr>\n",
       "    <tr>\n",
       "      <th>3</th>\n",
       "      <td>1263</td>\n",
       "      <td>uninklinik_1317</td>\n",
       "      <td>enrolled</td>\n",
       "      <td>2021-01-04</td>\n",
       "      <td>NaT</td>\n",
       "      <td>2021-01-04</td>\n",
       "      <td>2021-01-04</td>\n",
       "      <td>1</td>\n",
       "      <td>1</td>\n",
       "      <td>male</td>\n",
       "      <td>1922-07</td>\n",
       "    </tr>\n",
       "    <tr>\n",
       "      <th>4</th>\n",
       "      <td>1143</td>\n",
       "      <td>uninklinik_717</td>\n",
       "      <td>enrolled</td>\n",
       "      <td>2021-01-05</td>\n",
       "      <td>NaT</td>\n",
       "      <td>2021-01-05</td>\n",
       "      <td>2021-01-05</td>\n",
       "      <td>1</td>\n",
       "      <td>1</td>\n",
       "      <td>female</td>\n",
       "      <td>1932-04</td>\n",
       "    </tr>\n",
       "    <tr>\n",
       "      <th>5</th>\n",
       "      <td>1356</td>\n",
       "      <td>test_user_1782</td>\n",
       "      <td>enrolled</td>\n",
       "      <td>2021-01-05</td>\n",
       "      <td>NaT</td>\n",
       "      <td>2021-01-05</td>\n",
       "      <td>2021-01-05</td>\n",
       "      <td>1</td>\n",
       "      <td>1</td>\n",
       "      <td>male</td>\n",
       "      <td>1938-08</td>\n",
       "    </tr>\n",
       "    <tr>\n",
       "      <th>6</th>\n",
       "      <td>1208</td>\n",
       "      <td>uninklinik_1042</td>\n",
       "      <td>enrolled</td>\n",
       "      <td>2021-01-07</td>\n",
       "      <td>NaT</td>\n",
       "      <td>2021-01-07</td>\n",
       "      <td>2021-01-07</td>\n",
       "      <td>1</td>\n",
       "      <td>1</td>\n",
       "      <td>male</td>\n",
       "      <td>1971-06</td>\n",
       "    </tr>\n",
       "    <tr>\n",
       "      <th>7</th>\n",
       "      <td>1476</td>\n",
       "      <td>test_user_2382</td>\n",
       "      <td>enrolled</td>\n",
       "      <td>2021-01-07</td>\n",
       "      <td>NaT</td>\n",
       "      <td>2021-01-07</td>\n",
       "      <td>2021-01-07</td>\n",
       "      <td>1</td>\n",
       "      <td>1</td>\n",
       "      <td>male</td>\n",
       "      <td>1934-01</td>\n",
       "    </tr>\n",
       "    <tr>\n",
       "      <th>8</th>\n",
       "      <td>1400</td>\n",
       "      <td>uninklinik_2002</td>\n",
       "      <td>enrolled</td>\n",
       "      <td>2021-01-10</td>\n",
       "      <td>NaT</td>\n",
       "      <td>2021-01-10</td>\n",
       "      <td>2021-01-10</td>\n",
       "      <td>1</td>\n",
       "      <td>1</td>\n",
       "      <td>female</td>\n",
       "      <td>1927-07</td>\n",
       "    </tr>\n",
       "    <tr>\n",
       "      <th>9</th>\n",
       "      <td>1437</td>\n",
       "      <td>uninklinik_2187</td>\n",
       "      <td>enrolled</td>\n",
       "      <td>2021-01-10</td>\n",
       "      <td>NaT</td>\n",
       "      <td>2021-01-10</td>\n",
       "      <td>2021-01-10</td>\n",
       "      <td>1</td>\n",
       "      <td>1</td>\n",
       "      <td>male</td>\n",
       "      <td>1935-10</td>\n",
       "    </tr>\n",
       "  </tbody>\n",
       "</table>"
      ],
      "text/plain": [
       "<IPython.core.display.HTML object>"
      ]
     },
     "metadata": {},
     "output_type": "display_data"
    }
   ],
   "source": [
    "from lib.studies.rki_panel_study import RkiPanelStudy\n",
    "from lib.participant_builder import ParticipantsBuilder\n",
    "\n",
    "builder = ParticipantsBuilder(RkiPanelStudy(), participants_df, responses_df)\n",
    "df = builder \\\n",
    "    .add_last_donation() \\\n",
    "    .add_all_submissions() \\\n",
    "    .add_choice('S1', 'Sex', 'GENDER') \\\n",
    "    .add_answer('S1', 'Gebm_Gebj', 'BIRTH_DATE') \\\n",
    "    .get()\n",
    "\n",
    "Display.frame(df, 10)"
   ]
  },
  {
   "cell_type": "code",
   "execution_count": 7,
   "id": "0980635b-89e1-4a7b-8dab-8b112ae54f1a",
   "metadata": {},
   "outputs": [
    {
     "data": {
      "text/html": [
       "<h2>Participants distribution</h2>"
      ],
      "text/plain": [
       "<IPython.core.display.HTML object>"
      ]
     },
     "metadata": {},
     "output_type": "display_data"
    },
    {
     "data": {
      "image/png": "[encoded data removed]",
      "text/plain": [
       "<Figure size 864x432 with 2 Axes>"
      ]
     },
     "metadata": {
      "needs_background": "light"
     },
     "output_type": "display_data"
    }
   ],
   "source": [
    "df = ParticipantsBuilder(RkiPanelStudy(), participants_df, responses_df) \\\n",
    "    .add_choice('S1','Sex', 'Gender') \\\n",
    "    .add_choice('S1','HSA1Aa1', 'Education') \\\n",
    "    .get()\n",
    "\n",
    "import matplotlib.pyplot as plt\n",
    "fig, (ax1, ax2) = plt.subplots(1,2, figsize=(12,6))\n",
    "\n",
    "column_name = 'Gender'\n",
    "value_counts = df[column_name].value_counts().sort_index()\n",
    "value_counts.plot(kind=\"bar\", ylabel='Number of Users', title=column_name, ax=ax1)\n",
    "Display.tag_bars(ax1, df.shape[0])\n",
    "    \n",
    "column_name = 'Education'\n",
    "value_counts = df[column_name].value_counts().sort_index()\n",
    "value_counts.plot(kind=\"bar\", ylabel='Number of Users', title=column_name, ax=ax2)\n",
    "Display.tag_bars(ax2, df.shape[0])\n",
    "\n",
    "Display.header('Participants distribution', 'h2')\n",
    "fig.tight_layout()"
   ]
  },
  {
   "cell_type": "code",
   "execution_count": null,
   "id": "e63e065f-ca14-4225-8b9e-7f80cb3c49e7",
   "metadata": {},
   "outputs": [],
   "source": []
  }
 ],
 "metadata": {
  "kernelspec": {
   "display_name": "Python 3 (ipykernel)",
   "language": "python",
   "name": "python3"
  },
  "language_info": {
   "codemirror_mode": {
    "name": "ipython",
    "version": 3
   },
   "file_extension": ".py",
   "mimetype": "text/x-python",
   "name": "python",
   "nbconvert_exporter": "python",
   "pygments_lexer": "ipython3",
   "version": "3.8.1"
  }
 },
 "nbformat": 4,
 "nbformat_minor": 5
}
