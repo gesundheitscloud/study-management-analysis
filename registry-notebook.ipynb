{
 "cells": [
  {
   "cell_type": "code",
   "execution_count": 14,
   "id": "c3f65ff5-b382-48d4-bf8a-e88e78d7d596",
   "metadata": {},
   "outputs": [
    {
     "data": {
      "text/html": [
       "<h1>ALP tables</h1>"
      ],
      "text/plain": [
       "<IPython.core.display.HTML object>"
      ]
     },
     "metadata": {},
     "output_type": "display_data"
    },
    {
     "data": {
      "text/html": [
       "<h2>Participants table</h2>"
      ],
      "text/plain": [
       "<IPython.core.display.HTML object>"
      ]
     },
     "metadata": {},
     "output_type": "display_data"
    },
    {
     "data": {
      "text/html": [
       "<text style=color:black>Number of users: 226</text>"
      ],
      "text/plain": [
       "<IPython.core.display.HTML object>"
      ]
     },
     "metadata": {},
     "output_type": "display_data"
    },
    {
     "data": {
      "text/html": [
       "<table border=\"1\" class=\"dataframe\">\n",
       "  <thead>\n",
       "    <tr style=\"text-align: right;\">\n",
       "      <th></th>\n",
       "      <th>ALP_ID</th>\n",
       "      <th>EXTERNAL_ID</th>\n",
       "      <th>STATUS</th>\n",
       "      <th>START_DATE</th>\n",
       "      <th>END_DATE</th>\n",
       "    </tr>\n",
       "  </thead>\n",
       "  <tbody>\n",
       "    <tr>\n",
       "      <th>0</th>\n",
       "      <td>5883</td>\n",
       "      <td>anonymous</td>\n",
       "      <td>enrolled</td>\n",
       "      <td>2021-08-31</td>\n",
       "      <td>NaT</td>\n",
       "    </tr>\n",
       "    <tr>\n",
       "      <th>1</th>\n",
       "      <td>5909</td>\n",
       "      <td>anonymous</td>\n",
       "      <td>enrolled</td>\n",
       "      <td>2021-09-02</td>\n",
       "      <td>NaT</td>\n",
       "    </tr>\n",
       "    <tr>\n",
       "      <th>2</th>\n",
       "      <td>5514</td>\n",
       "      <td>anonymous</td>\n",
       "      <td>enrolled</td>\n",
       "      <td>2021-09-02</td>\n",
       "      <td>NaT</td>\n",
       "    </tr>\n",
       "    <tr>\n",
       "      <th>3</th>\n",
       "      <td>5594</td>\n",
       "      <td>anonymous</td>\n",
       "      <td>enrolled</td>\n",
       "      <td>2021-09-05</td>\n",
       "      <td>NaT</td>\n",
       "    </tr>\n",
       "    <tr>\n",
       "      <th>4</th>\n",
       "      <td>5578</td>\n",
       "      <td>anonymous</td>\n",
       "      <td>enrolled</td>\n",
       "      <td>2021-09-02</td>\n",
       "      <td>NaT</td>\n",
       "    </tr>\n",
       "  </tbody>\n",
       "</table>"
      ],
      "text/plain": [
       "<IPython.core.display.HTML object>"
      ]
     },
     "metadata": {},
     "output_type": "display_data"
    },
    {
     "data": {
      "text/html": [
       "<h2>Responses table</h2>"
      ],
      "text/plain": [
       "<IPython.core.display.HTML object>"
      ]
     },
     "metadata": {},
     "output_type": "display_data"
    },
    {
     "data": {
      "text/html": [
       "<text style=color:black>Number of responses: 1686</text>"
      ],
      "text/plain": [
       "<IPython.core.display.HTML object>"
      ]
     },
     "metadata": {},
     "output_type": "display_data"
    },
    {
     "data": {
      "text/html": [
       "<table border=\"1\" class=\"dataframe\">\n",
       "  <thead>\n",
       "    <tr style=\"text-align: right;\">\n",
       "      <th></th>\n",
       "      <th>Unnamed: 0</th>\n",
       "      <th>ALP_ID</th>\n",
       "      <th>VERSION</th>\n",
       "      <th>AUTHORED</th>\n",
       "      <th>QUESTIONNAIRE</th>\n",
       "      <th>LINK_ID</th>\n",
       "      <th>VALUE</th>\n",
       "      <th>VALUECODING_CODE</th>\n",
       "      <th>LANGUAGE</th>\n",
       "      <th>TEXT</th>\n",
       "    </tr>\n",
       "  </thead>\n",
       "  <tbody>\n",
       "    <tr>\n",
       "      <th>0</th>\n",
       "      <td>1</td>\n",
       "      <td>5487</td>\n",
       "      <td>1.1.0</td>\n",
       "      <td>2021-07-21</td>\n",
       "      <td>Q1_personal_info</td>\n",
       "      <td>what_age</td>\n",
       "      <td>NaN</td>\n",
       "      <td>40s</td>\n",
       "      <td>de</td>\n",
       "      <td>Wie alt sind Sie?</td>\n",
       "    </tr>\n",
       "    <tr>\n",
       "      <th>1</th>\n",
       "      <td>2</td>\n",
       "      <td>5487</td>\n",
       "      <td>1.1.0</td>\n",
       "      <td>2021-07-21</td>\n",
       "      <td>Q1_personal_info</td>\n",
       "      <td>what_gender</td>\n",
       "      <td>NaN</td>\n",
       "      <td>Male</td>\n",
       "      <td>de</td>\n",
       "      <td>Welchem Geschlecht ordnen Sie sich zu?</td>\n",
       "    </tr>\n",
       "    <tr>\n",
       "      <th>2</th>\n",
       "      <td>3</td>\n",
       "      <td>5487</td>\n",
       "      <td>1.1.0</td>\n",
       "      <td>2021-07-21</td>\n",
       "      <td>Q1_personal_info</td>\n",
       "      <td>what_postal_code</td>\n",
       "      <td>250</td>\n",
       "      <td>NaN</td>\n",
       "      <td>de</td>\n",
       "      <td>Was sind die ersten 3 Stellen Ihrer Postleitzahl?</td>\n",
       "    </tr>\n",
       "    <tr>\n",
       "      <th>3</th>\n",
       "      <td>4</td>\n",
       "      <td>5487</td>\n",
       "      <td>1.1.0</td>\n",
       "      <td>2021-07-21</td>\n",
       "      <td>Q1_personal_info</td>\n",
       "      <td>which_country_residence</td>\n",
       "      <td>NaN</td>\n",
       "      <td>AT</td>\n",
       "      <td>de</td>\n",
       "      <td>In welchem Land wohnen Sie?</td>\n",
       "    </tr>\n",
       "    <tr>\n",
       "      <th>4</th>\n",
       "      <td>5</td>\n",
       "      <td>5487</td>\n",
       "      <td>1.1.0</td>\n",
       "      <td>2021-07-21</td>\n",
       "      <td>Q1_personal_info</td>\n",
       "      <td>what_research_topic</td>\n",
       "      <td>NaN</td>\n",
       "      <td>topic_autoimmune</td>\n",
       "      <td>de</td>\n",
       "      <td>Zu welchen Forschungsthemen haben Sie einen persÃ¶nlichen Bezug?</td>\n",
       "    </tr>\n",
       "  </tbody>\n",
       "</table>"
      ],
      "text/plain": [
       "<IPython.core.display.HTML object>"
      ]
     },
     "metadata": {},
     "output_type": "display_data"
    },
    {
     "data": {
      "text/html": [
       "<text style=color:black>Last donation: 21.11.2021</text>"
      ],
      "text/plain": [
       "<IPython.core.display.HTML object>"
      ]
     },
     "metadata": {},
     "output_type": "display_data"
    }
   ],
   "source": [
    "import os\n",
    "import sys\n",
    "# !{sys.executable} -m pip install python-csv\n",
    "# !{sys.executable} -m pip install --upgrade pip\n",
    "# !{sys.executable} -m pip install pandas;\n",
    "# print(pd.__version__)"
   ]
  },
  {
   "cell_type": "code",
   "execution_count": 5,
   "id": "4d94cc3b-e9fe-45be-8da3-b5836ca2af55",
   "metadata": {},
   "outputs": [
    {
     "data": {
      "text/html": [
       "<h1>Waiting list study on ALP</h1>"
      ],
      "text/plain": [
       "<IPython.core.display.HTML object>"
      ]
     },
     "metadata": {},
     "output_type": "display_data"
    },
    {
     "data": {
      "text/html": [
       "<h3>Participants</h3>"
      ],
      "text/plain": [
       "<IPython.core.display.HTML object>"
      ]
     },
     "metadata": {},
     "output_type": "display_data"
    },
    {
     "data": {
      "text/html": [
       "<table border=\"1\" class=\"dataframe\">\n",
       "  <thead>\n",
       "    <tr style=\"text-align: right;\">\n",
       "      <th></th>\n",
       "      <th>Unnamed: 0</th>\n",
       "      <th>ALP_ID</th>\n",
       "      <th>EXTERNAL_ID</th>\n",
       "      <th>STATUS</th>\n",
       "      <th>START_DATE</th>\n",
       "      <th>END_DATE</th>\n",
       "    </tr>\n",
       "  </thead>\n",
       "  <tbody>\n",
       "    <tr>\n",
       "      <th>0</th>\n",
       "      <td>1</td>\n",
       "      <td>5883</td>\n",
       "      <td>anonymous</td>\n",
       "      <td>enrolled</td>\n",
       "      <td>2021-08-31</td>\n",
       "      <td>NaT</td>\n",
       "    </tr>\n",
       "    <tr>\n",
       "      <th>1</th>\n",
       "      <td>2</td>\n",
       "      <td>5909</td>\n",
       "      <td>anonymous</td>\n",
       "      <td>enrolled</td>\n",
       "      <td>2021-09-02</td>\n",
       "      <td>NaT</td>\n",
       "    </tr>\n",
       "    <tr>\n",
       "      <th>2</th>\n",
       "      <td>3</td>\n",
       "      <td>5514</td>\n",
       "      <td>anonymous</td>\n",
       "      <td>enrolled</td>\n",
       "      <td>2021-09-02</td>\n",
       "      <td>NaT</td>\n",
       "    </tr>\n",
       "    <tr>\n",
       "      <th>3</th>\n",
       "      <td>4</td>\n",
       "      <td>5594</td>\n",
       "      <td>anonymous</td>\n",
       "      <td>enrolled</td>\n",
       "      <td>2021-09-05</td>\n",
       "      <td>NaT</td>\n",
       "    </tr>\n",
       "    <tr>\n",
       "      <th>4</th>\n",
       "      <td>5</td>\n",
       "      <td>5578</td>\n",
       "      <td>anonymous</td>\n",
       "      <td>enrolled</td>\n",
       "      <td>2021-09-02</td>\n",
       "      <td>NaT</td>\n",
       "    </tr>\n",
       "  </tbody>\n",
       "</table>"
      ],
      "text/plain": [
       "<IPython.core.display.HTML object>"
      ]
     },
     "metadata": {},
     "output_type": "display_data"
    },
    {
     "name": "stdout",
     "output_type": "stream",
     "text": [
      "Number of participants: 226\n"
     ]
    },
    {
     "data": {
      "text/html": [
       "<h3>Responses</h3>"
      ],
      "text/plain": [
       "<IPython.core.display.HTML object>"
      ]
     },
     "metadata": {},
     "output_type": "display_data"
    },
    {
     "data": {
      "text/html": [
       "<table border=\"1\" class=\"dataframe\">\n",
       "  <thead>\n",
       "    <tr style=\"text-align: right;\">\n",
       "      <th></th>\n",
       "      <th>Unnamed: 0</th>\n",
       "      <th>ALP_ID</th>\n",
       "      <th>VERSION</th>\n",
       "      <th>AUTHORED</th>\n",
       "      <th>QUESTIONNAIRE</th>\n",
       "      <th>LINK_ID</th>\n",
       "      <th>VALUE</th>\n",
       "      <th>VALUECODING_CODE</th>\n",
       "      <th>LANGUAGE</th>\n",
       "      <th>TEXT</th>\n",
       "    </tr>\n",
       "  </thead>\n",
       "  <tbody>\n",
       "    <tr>\n",
       "      <th>0</th>\n",
       "      <td>1</td>\n",
       "      <td>5487</td>\n",
       "      <td>1.1.0</td>\n",
       "      <td>2021-07-21</td>\n",
       "      <td>Q1_personal_info</td>\n",
       "      <td>what_age</td>\n",
       "      <td>NaN</td>\n",
       "      <td>40s</td>\n",
       "      <td>de</td>\n",
       "      <td>Wie alt sind Sie?</td>\n",
       "    </tr>\n",
       "    <tr>\n",
       "      <th>1</th>\n",
       "      <td>2</td>\n",
       "      <td>5487</td>\n",
       "      <td>1.1.0</td>\n",
       "      <td>2021-07-21</td>\n",
       "      <td>Q1_personal_info</td>\n",
       "      <td>what_gender</td>\n",
       "      <td>NaN</td>\n",
       "      <td>Male</td>\n",
       "      <td>de</td>\n",
       "      <td>Welchem Geschlecht ordnen Sie sich zu?</td>\n",
       "    </tr>\n",
       "    <tr>\n",
       "      <th>2</th>\n",
       "      <td>3</td>\n",
       "      <td>5487</td>\n",
       "      <td>1.1.0</td>\n",
       "      <td>2021-07-21</td>\n",
       "      <td>Q1_personal_info</td>\n",
       "      <td>what_postal_code</td>\n",
       "      <td>250</td>\n",
       "      <td>NaN</td>\n",
       "      <td>de</td>\n",
       "      <td>Was sind die ersten 3 Stellen Ihrer Postleitzahl?</td>\n",
       "    </tr>\n",
       "    <tr>\n",
       "      <th>3</th>\n",
       "      <td>4</td>\n",
       "      <td>5487</td>\n",
       "      <td>1.1.0</td>\n",
       "      <td>2021-07-21</td>\n",
       "      <td>Q1_personal_info</td>\n",
       "      <td>which_country_residence</td>\n",
       "      <td>NaN</td>\n",
       "      <td>AT</td>\n",
       "      <td>de</td>\n",
       "      <td>In welchem Land wohnen Sie?</td>\n",
       "    </tr>\n",
       "    <tr>\n",
       "      <th>4</th>\n",
       "      <td>5</td>\n",
       "      <td>5487</td>\n",
       "      <td>1.1.0</td>\n",
       "      <td>2021-07-21</td>\n",
       "      <td>Q1_personal_info</td>\n",
       "      <td>what_research_topic</td>\n",
       "      <td>NaN</td>\n",
       "      <td>topic_autoimmune</td>\n",
       "      <td>de</td>\n",
       "      <td>Zu welchen Forschungsthemen haben Sie einen persÃ¶nlichen Bezug?</td>\n",
       "    </tr>\n",
       "  </tbody>\n",
       "</table>"
      ],
      "text/plain": [
       "<IPython.core.display.HTML object>"
      ]
     },
     "metadata": {},
     "output_type": "display_data"
    },
    {
     "name": "stdout",
     "output_type": "stream",
     "text": [
      "Number of responses: 1686\n"
     ]
    }
   ],
   "source": [
    "from lib.display import Display\n",
    "from lib.mock_db import Database\n",
    "from lib.schema import Schema\n",
    "\n",
    "db = Database(Schema.WAITING_LIST)   \n",
    "Display.header('Waiting list study on ALP', 'h1')\n",
    "\n",
    "Display.header('Participants', 'h3')\n",
    "participants_df = db.get_participants()\n",
    "Display.frame(participants_df, 5)\n",
    "print('Number of participants:', participants_df.shape[0])\n",
    "\n",
    "Display.header('Responses', 'h3')\n",
    "responses_df = db.get_responses()\n",
    "Display.frame(responses_df.drop(columns=['QUESTIONNAIRE_ID']), 5)\n",
    "print('Number of responses:', responses_df.shape[0])"
   ]
  },
  {
   "cell_type": "code",
   "execution_count": 8,
   "id": "09d2ad2c-00e9-48c2-b3f3-18bdd4c685f8",
   "metadata": {},
   "outputs": [
    {
     "data": {
      "text/html": [
       "<h1>Demographics</h1>"
      ],
      "text/plain": [
       "<IPython.core.display.HTML object>"
      ]
     },
     "metadata": {},
     "output_type": "display_data"
    },
    {
     "name": "stdout",
     "output_type": "stream",
     "text": [
      "Participants filling questionnaire: 196\n"
     ]
    },
    {
     "data": {
      "image/png": "[encoded data removed]",
      "text/plain": [
       "<Figure size 1296x432 with 3 Axes>"
      ]
     },
     "metadata": {
      "needs_background": "light"
     },
     "output_type": "display_data"
    }
   ],
   "source": [
    "import matplotlib.pyplot as plt\n",
    "from lib.participant_builder import ParticipantsBuilder\n",
    "\n",
    "class Registry():\n",
    "    def name(self):\n",
    "        'Waiting-list'\n",
    "    def demographic(self):\n",
    "        return 'Q1_personal_info'\n",
    "    def questionnaires(self):\n",
    "        return {\n",
    "            'Q1': 'Q1_personal_info'\n",
    "        }\n",
    "    \n",
    "def tag_bars(ax, size=None):\n",
    "    for p in ax.patches:\n",
    "        value = f'{round(100 * p.get_height() / size, 2)}%' if size else f'{p.get_height()}'\n",
    "        ax.annotate(value, (p.get_x() * 1.005, p.get_height() * 1.005))\n",
    "        \n",
    "        \n",
    "def bar_distribution(series, ax, title, xlabel, ylabel):\n",
    "    value_counts = round(100 * series.value_counts().sort_index() / series.shape[0])\n",
    "    value_counts.plot(kind=\"bar\", title=title, ax=ax, ylabel=ylabel, xlabel=xlabel)\n",
    "    tag_bars(ax)\n",
    "    \n",
    "def draw(result):\n",
    "    fig, (ax1, ax2, ax3) = plt.subplots(1,3, figsize=(18,6))\n",
    "    bar_distribution(result['AGE'], ax1, 'Age distribution (%)', 'Age', 'Percentage of users')\n",
    "    bar_distribution(result['GENDER'], ax3, 'Gender distribution (%)', 'Gender', 'Percentage of users')\n",
    "    bar_distribution(result['COUNTRY'], ax2, 'Country distribution (%)', 'Country', 'Percentage of users')\n",
    "\n",
    "df = ParticipantsBuilder(Registry(), participants_df, responses_df) \\\n",
    "    .add_choice('Q1_personal_info','what_age', 'AGE') \\\n",
    "    .add_choice('Q1_personal_info','what_gender', 'GENDER') \\\n",
    "    .add_choice('Q1_personal_info','which_country_residence', 'COUNTRY') \\\n",
    "    .get()\n",
    "\n",
    "df = df[~df['ENROLED_ON'].isnull()]\n",
    "\n",
    "Display.header('Demographics', 'h1')\n",
    "print(f'Participants filling questionnaire: {df.shape[0]}')\n",
    "draw(df)"
   ]
  },
  {
   "cell_type": "code",
   "execution_count": 9,
   "id": "788dc37c-b859-41d2-981d-1830087c50f8",
   "metadata": {},
   "outputs": [
    {
     "data": {
      "text/html": [
       "<h1>Topics of interest</h1>"
      ],
      "text/plain": [
       "<IPython.core.display.HTML object>"
      ]
     },
     "metadata": {},
     "output_type": "display_data"
    },
    {
     "data": {
      "image/png": "[encoded data removed]",
      "text/plain": [
       "<Figure size 576x432 with 1 Axes>"
      ]
     },
     "metadata": {
      "needs_background": "light"
     },
     "output_type": "display_data"
    }
   ],
   "source": [
    "Display.header('Topics of interest', 'h1')\n",
    "\n",
    "fig, ax1 = plt.subplots(1,1, figsize=(8,6))\n",
    "    \n",
    "df = responses_df[responses_df['LINK_ID'] == 'what_research_topic']\n",
    "vc = df['VALUECODING_CODE'].value_counts().sort_index()\n",
    "\n",
    "vc.plot(kind=\"bar\", title='Topics of interest', ax=ax1, ylabel='Users', xlabel='Topic')\n",
    "tag_bars(ax1)"
   ]
  },
  {
   "cell_type": "code",
   "execution_count": 10,
   "id": "94d11600-5244-4ea6-8218-20743118a6ad",
   "metadata": {},
   "outputs": [
    {
     "data": {
      "text/html": [
       "<h2>Other topics entered by users</h2>"
      ],
      "text/plain": [
       "<IPython.core.display.HTML object>"
      ]
     },
     "metadata": {},
     "output_type": "display_data"
    },
    {
     "data": {
      "text/html": [
       "<table border=\"1\" class=\"dataframe\">\n",
       "  <thead>\n",
       "    <tr style=\"text-align: right;\">\n",
       "      <th></th>\n",
       "      <th>OTHER_TOPIC</th>\n",
       "      <th>VOTES</th>\n",
       "    </tr>\n",
       "  </thead>\n",
       "  <tbody>\n",
       "    <tr>\n",
       "      <th>0</th>\n",
       "      <td>Pflege von AngehÃ¶rigen Depressionen Innere StÃ¤rke</td>\n",
       "      <td>1</td>\n",
       "    </tr>\n",
       "    <tr>\n",
       "      <th>1</th>\n",
       "      <td>Kinder, Jugendliche</td>\n",
       "      <td>1</td>\n",
       "    </tr>\n",
       "    <tr>\n",
       "      <th>2</th>\n",
       "      <td>Gesellschaftliche Spaltung, Mobbing/Beleidigungen/ familiÃ¤re Spaltung durch anheizen der Politik und ihre gesundheitlichen Folgen</td>\n",
       "      <td>1</td>\n",
       "    </tr>\n",
       "    <tr>\n",
       "      <th>3</th>\n",
       "      <td>TranssexualitÃ¤t (FtM)</td>\n",
       "      <td>1</td>\n",
       "    </tr>\n",
       "    <tr>\n",
       "      <th>4</th>\n",
       "      <td>okulÃ¤re Hypertension, EisenmangelanÃ¤mie, Kreuzbandelongation</td>\n",
       "      <td>1</td>\n",
       "    </tr>\n",
       "    <tr>\n",
       "      <th>5</th>\n",
       "      <td>Partnerschaft  Pflanzenheilkunde und Gesundheit Insekten im privaten Garten Biologischer Anbau von Obst und GemÃ¼se im eigenen Garten Mobbing</td>\n",
       "      <td>1</td>\n",
       "    </tr>\n",
       "    <tr>\n",
       "      <th>6</th>\n",
       "      <td>Lang anhaltender Geruchsverlust durch Corona</td>\n",
       "      <td>1</td>\n",
       "    </tr>\n",
       "    <tr>\n",
       "      <th>7</th>\n",
       "      <td>Chronische Atemwegserkrankungen (Asthma)</td>\n",
       "      <td>1</td>\n",
       "    </tr>\n",
       "    <tr>\n",
       "      <th>8</th>\n",
       "      <td>Long Covid</td>\n",
       "      <td>1</td>\n",
       "    </tr>\n",
       "    <tr>\n",
       "      <th>9</th>\n",
       "      <td>Asthma, Cholesterin, Allergie, Bandscheibe</td>\n",
       "      <td>1</td>\n",
       "    </tr>\n",
       "    <tr>\n",
       "      <th>10</th>\n",
       "      <td>Ich bin NotfallsanitÃ¤ter, sehe daher viele Patienten, habe einen Behinderten Sohn und es sind in unsere Familie einige Krankheiten bekannt, daher bin immer gewillt alle Fragen bestmÃ¶glich zu beantworten. Bin eigentlich allen Themen irgendwie verbunden</td>\n",
       "      <td>1</td>\n",
       "    </tr>\n",
       "    <tr>\n",
       "      <th>11</th>\n",
       "      <td>Arthrose, kÃ¼nstliche Gelenke, Asthma, Allergien</td>\n",
       "      <td>1</td>\n",
       "    </tr>\n",
       "    <tr>\n",
       "      <th>12</th>\n",
       "      <td>Social media influences, drugs and alcohol effects, recurrent vaginal infections</td>\n",
       "      <td>1</td>\n",
       "    </tr>\n",
       "    <tr>\n",
       "      <th>13</th>\n",
       "      <td>prÃ¤vention</td>\n",
       "      <td>1</td>\n",
       "    </tr>\n",
       "    <tr>\n",
       "      <th>14</th>\n",
       "      <td>COPD</td>\n",
       "      <td>1</td>\n",
       "    </tr>\n",
       "  </tbody>\n",
       "</table>"
      ],
      "text/plain": [
       "<IPython.core.display.HTML object>"
      ]
     },
     "metadata": {},
     "output_type": "display_data"
    }
   ],
   "source": [
    "Display.header('Other topics entered by users', 'h2')\n",
    "\n",
    "df = responses_df[responses_df['LINK_ID'] == 'which_other_topic']\n",
    "vc = df['VALUE'].value_counts()\n",
    "df = vc.to_frame().reset_index()\n",
    "df.columns=['OTHER_TOPIC', 'VOTES']\n",
    "Display.frame(df)"
   ]
  }
 ],
 "metadata": {
  "kernelspec": {
   "display_name": "Python 3 (ipykernel)",
   "language": "python",
   "name": "python3"
  },
  "language_info": {
   "codemirror_mode": {
    "name": "ipython",
    "version": 3
   },
   "file_extension": ".py",
   "mimetype": "text/x-python",
   "name": "python",
   "nbconvert_exporter": "python",
   "pygments_lexer": "ipython3",
   "version": "3.8.1"
  }
 },
 "nbformat": 4,
 "nbformat_minor": 5
}
