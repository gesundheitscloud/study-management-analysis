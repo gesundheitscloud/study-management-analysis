{
 "cells": [
  {
   "cell_type": "code",
   "execution_count": 3,
   "id": "d3dc8678-766a-4fcd-8a6b-f949f2b71fca",
   "metadata": {},
   "outputs": [],
   "source": [
    "import os\n",
    "import sys\n",
    "from datetime import datetime, timedelta\n",
    "import math \n",
    "import pandas as pd\n",
    "import numpy as np\n",
    "from matplotlib import pyplot as plt, ticker\n",
    "\n",
    "from lib.display import Display\n",
    "from lib.database import Database\n",
    "from lib.schema import Schema\n",
    "\n",
    "from lib.participant_builder import ParticipantsBuilder\n",
    "from lib.studies.symptom_tracker import SymptomTracker\n",
    "\n",
    "study = SymptomTracker()"
   ]
  },
  {
   "cell_type": "code",
   "execution_count": 32,
   "id": "86a4ff95-bf72-44e6-bd5f-e259f288c03e",
   "metadata": {},
   "outputs": [
    {
     "data": {
      "text/html": [
       "<h1>User research on ALP</h1>"
      ],
      "text/plain": [
       "<IPython.core.display.HTML object>"
      ]
     },
     "metadata": {},
     "output_type": "display_data"
    },
    {
     "data": {
      "text/html": [
       "<h3>Participants</h3>"
      ],
      "text/plain": [
       "<IPython.core.display.HTML object>"
      ]
     },
     "metadata": {},
     "output_type": "display_data"
    },
    {
     "name": "stdout",
     "output_type": "stream",
     "text": [
      "Number of participants: 33\n"
     ]
    },
    {
     "data": {
      "text/html": [
       "<table border=\"1\" class=\"dataframe\">\n",
       "  <thead>\n",
       "    <tr style=\"text-align: right;\">\n",
       "      <th></th>\n",
       "      <th>ALP_ID</th>\n",
       "      <th>EXTERNAL_ID</th>\n",
       "      <th>STATUS</th>\n",
       "      <th>START_DATE</th>\n",
       "      <th>END_DATE</th>\n",
       "    </tr>\n",
       "  </thead>\n",
       "  <tbody>\n",
       "    <tr>\n",
       "      <th>0</th>\n",
       "      <td>14030</td>\n",
       "      <td>anonymous</td>\n",
       "      <td>enrolled</td>\n",
       "      <td>2022-07-09 00:00:00</td>\n",
       "      <td>NaT</td>\n",
       "    </tr>\n",
       "    <tr>\n",
       "      <th>1</th>\n",
       "      <td>14038</td>\n",
       "      <td>anonymous</td>\n",
       "      <td>enrolled</td>\n",
       "      <td>2022-07-07 00:00:00</td>\n",
       "      <td>NaT</td>\n",
       "    </tr>\n",
       "    <tr>\n",
       "      <th>2</th>\n",
       "      <td>14000</td>\n",
       "      <td>anonymous</td>\n",
       "      <td>withdrawn</td>\n",
       "      <td>2022-07-09 19:39:42</td>\n",
       "      <td>2022-07-10 10:03:27</td>\n",
       "    </tr>\n",
       "    <tr>\n",
       "      <th>3</th>\n",
       "      <td>13999</td>\n",
       "      <td>anonymous</td>\n",
       "      <td>withdrawn</td>\n",
       "      <td>2022-07-09 19:37:39</td>\n",
       "      <td>2022-07-09 19:39:07</td>\n",
       "    </tr>\n",
       "    <tr>\n",
       "      <th>4</th>\n",
       "      <td>13996</td>\n",
       "      <td>anonymous</td>\n",
       "      <td>enrolled</td>\n",
       "      <td>2022-07-08 00:00:00</td>\n",
       "      <td>NaT</td>\n",
       "    </tr>\n",
       "  </tbody>\n",
       "</table>"
      ],
      "text/plain": [
       "<IPython.core.display.HTML object>"
      ]
     },
     "metadata": {},
     "output_type": "display_data"
    },
    {
     "data": {
      "text/html": [
       "<h3>Responses</h3>"
      ],
      "text/plain": [
       "<IPython.core.display.HTML object>"
      ]
     },
     "metadata": {},
     "output_type": "display_data"
    },
    {
     "data": {
      "text/html": [
       "<table border=\"1\" class=\"dataframe\">\n",
       "  <thead>\n",
       "    <tr style=\"text-align: right;\">\n",
       "      <th></th>\n",
       "      <th>ALP_ID</th>\n",
       "      <th>VERSION</th>\n",
       "      <th>AUTHORED</th>\n",
       "      <th>QUESTIONNAIRE</th>\n",
       "      <th>LINK_ID</th>\n",
       "      <th>VALUE</th>\n",
       "      <th>VALUECODING_CODE</th>\n",
       "      <th>LANGUAGE</th>\n",
       "      <th>TEXT</th>\n",
       "    </tr>\n",
       "  </thead>\n",
       "  <tbody>\n",
       "    <tr>\n",
       "      <th>0</th>\n",
       "      <td>13987</td>\n",
       "      <td>6.0.1</td>\n",
       "      <td>2021-08-06</td>\n",
       "      <td>covid19-covhub-symptom-tracking</td>\n",
       "      <td>abdominal-pain</td>\n",
       "      <td>NaN</td>\n",
       "      <td>LA32-8</td>\n",
       "      <td>en</td>\n",
       "      <td>Abdominal pain</td>\n",
       "    </tr>\n",
       "    <tr>\n",
       "      <th>1</th>\n",
       "      <td>13987</td>\n",
       "      <td>6.0.1</td>\n",
       "      <td>2021-08-06</td>\n",
       "      <td>covid19-covhub-symptom-tracking</td>\n",
       "      <td>worsening-exhaustion</td>\n",
       "      <td>NaN</td>\n",
       "      <td>LA32-8</td>\n",
       "      <td>en</td>\n",
       "      <td>Symptom worsening following exertion</td>\n",
       "    </tr>\n",
       "    <tr>\n",
       "      <th>2</th>\n",
       "      <td>13987</td>\n",
       "      <td>6.0.1</td>\n",
       "      <td>2021-08-06</td>\n",
       "      <td>covid19-covhub-symptom-tracking</td>\n",
       "      <td>SC</td>\n",
       "      <td>NaN</td>\n",
       "      <td>LA32-8</td>\n",
       "      <td>en</td>\n",
       "      <td>Loss of taste or smell</td>\n",
       "    </tr>\n",
       "    <tr>\n",
       "      <th>3</th>\n",
       "      <td>13987</td>\n",
       "      <td>6.0.1</td>\n",
       "      <td>2021-08-06</td>\n",
       "      <td>covid19-covhub-symptom-tracking</td>\n",
       "      <td>dyssomnia</td>\n",
       "      <td>NaN</td>\n",
       "      <td>LA33-6</td>\n",
       "      <td>en</td>\n",
       "      <td>Difficulty sleeping</td>\n",
       "    </tr>\n",
       "    <tr>\n",
       "      <th>4</th>\n",
       "      <td>13987</td>\n",
       "      <td>6.0.1</td>\n",
       "      <td>2021-08-06</td>\n",
       "      <td>covid19-covhub-symptom-tracking</td>\n",
       "      <td>fatigue</td>\n",
       "      <td>NaN</td>\n",
       "      <td>LA32-8</td>\n",
       "      <td>en</td>\n",
       "      <td>Fatigue (chronic exhaustion)</td>\n",
       "    </tr>\n",
       "  </tbody>\n",
       "</table>"
      ],
      "text/plain": [
       "<IPython.core.display.HTML object>"
      ]
     },
     "metadata": {},
     "output_type": "display_data"
    }
   ],
   "source": [
    "db = Database(Schema.SYMPTOM_TRACKER)   \n",
    "Display.header('User research on ALP', 'h1')\n",
    "\n",
    "Display.header('Participants', 'h3')\n",
    "participants_df = db.get_participants()\n",
    "print(f'Number of participants: {len(participants_df)}')\n",
    "Display.frame(participants_df, 5)\n",
    "\n",
    "Display.header('Responses', 'h3')\n",
    "responses_df = db.get_responses()\n",
    "Display.frame(responses_df.drop(columns=['QUESTIONNAIRE_ID']), 5)"
   ]
  },
  {
   "cell_type": "code",
   "execution_count": 6,
   "id": "35a53f38-93e1-48e5-909b-511af5e2c70b",
   "metadata": {},
   "outputs": [
    {
     "data": {
      "text/html": [
       "<table border=\"1\" class=\"dataframe\">\n",
       "  <thead>\n",
       "    <tr style=\"text-align: right;\">\n",
       "      <th></th>\n",
       "      <th>ALP_ID</th>\n",
       "      <th>STATUS</th>\n",
       "      <th>START_DATE</th>\n",
       "      <th>END_DATE</th>\n",
       "      <th>ENROLED_ON</th>\n",
       "      <th>LAST_DONATION</th>\n",
       "      <th>all</th>\n",
       "      <th>symptoms</th>\n",
       "      <th>vaccine</th>\n",
       "      <th>test</th>\n",
       "      <th>first_donation</th>\n",
       "      <th>last_donation</th>\n",
       "    </tr>\n",
       "  </thead>\n",
       "  <tbody>\n",
       "    <tr>\n",
       "      <th>25</th>\n",
       "      <td>14072</td>\n",
       "      <td>enrolled</td>\n",
       "      <td>2022-07-07</td>\n",
       "      <td>NaT</td>\n",
       "      <td>NaT</td>\n",
       "      <td>2022-07-09</td>\n",
       "      <td>141</td>\n",
       "      <td>139</td>\n",
       "      <td>2</td>\n",
       "      <td>0</td>\n",
       "      <td>2022-01-07</td>\n",
       "      <td>2022-07-09</td>\n",
       "    </tr>\n",
       "    <tr>\n",
       "      <th>8</th>\n",
       "      <td>14069</td>\n",
       "      <td>enrolled</td>\n",
       "      <td>2022-07-07</td>\n",
       "      <td>NaT</td>\n",
       "      <td>NaT</td>\n",
       "      <td>2022-07-08</td>\n",
       "      <td>108</td>\n",
       "      <td>98</td>\n",
       "      <td>2</td>\n",
       "      <td>8</td>\n",
       "      <td>2022-03-08</td>\n",
       "      <td>2022-07-08</td>\n",
       "    </tr>\n",
       "    <tr>\n",
       "      <th>9</th>\n",
       "      <td>14068</td>\n",
       "      <td>enrolled</td>\n",
       "      <td>2022-07-07</td>\n",
       "      <td>NaT</td>\n",
       "      <td>NaT</td>\n",
       "      <td>2022-07-06</td>\n",
       "      <td>94</td>\n",
       "      <td>93</td>\n",
       "      <td>1</td>\n",
       "      <td>0</td>\n",
       "      <td>2022-03-16</td>\n",
       "      <td>2022-07-06</td>\n",
       "    </tr>\n",
       "    <tr>\n",
       "      <th>0</th>\n",
       "      <td>14030</td>\n",
       "      <td>enrolled</td>\n",
       "      <td>2022-07-09</td>\n",
       "      <td>NaT</td>\n",
       "      <td>NaT</td>\n",
       "      <td>2022-07-09</td>\n",
       "      <td>38</td>\n",
       "      <td>26</td>\n",
       "      <td>0</td>\n",
       "      <td>12</td>\n",
       "      <td>2022-02-08</td>\n",
       "      <td>2022-07-09</td>\n",
       "    </tr>\n",
       "    <tr>\n",
       "      <th>22</th>\n",
       "      <td>14066</td>\n",
       "      <td>enrolled</td>\n",
       "      <td>2022-07-07</td>\n",
       "      <td>NaT</td>\n",
       "      <td>NaT</td>\n",
       "      <td>2022-07-09</td>\n",
       "      <td>33</td>\n",
       "      <td>30</td>\n",
       "      <td>1</td>\n",
       "      <td>2</td>\n",
       "      <td>2022-06-07</td>\n",
       "      <td>2022-07-09</td>\n",
       "    </tr>\n",
       "  </tbody>\n",
       "</table>"
      ],
      "text/plain": [
       "<IPython.core.display.HTML object>"
      ]
     },
     "metadata": {},
     "output_type": "display_data"
    }
   ],
   "source": [
    "builder = ParticipantsBuilder(study, participants_df, responses_df)\n",
    "df = builder.filter_data4life_users() \\\n",
    "    .add_last_donation() \\\n",
    "    .add_all_submissions() \\\n",
    "    .get()\n",
    "\n",
    "result = responses_df.groupby('ALP_ID').agg({'AUTHORED': ['min', 'max']}).reset_index()\n",
    "result.columns = ['ALP_ID', 'first_donation', 'last_donation']\n",
    "df = pd.merge(df, result, how='left', on=['ALP_ID']).drop(columns=['EXTERNAL_ID']).sort_values(by=['all'], ascending=False)\n",
    "\n",
    "Display.frame(df, 5)"
   ]
  },
  {
   "cell_type": "code",
   "execution_count": 31,
   "id": "d3ba98c4-343e-466d-88d5-13603fba60a7",
   "metadata": {},
   "outputs": [
    {
     "data": {
      "text/html": [
       "<table border=\"1\" class=\"dataframe\">\n",
       "  <thead>\n",
       "    <tr style=\"text-align: right;\">\n",
       "      <th></th>\n",
       "      <th>QUESTIONNAIRE</th>\n",
       "      <th>COUNT_SUBMISSIONS</th>\n",
       "      <th>COUNT_USERS</th>\n",
       "    </tr>\n",
       "  </thead>\n",
       "  <tbody>\n",
       "    <tr>\n",
       "      <th>0</th>\n",
       "      <td>covid19-covhub-symptom-tracking</td>\n",
       "      <td>883</td>\n",
       "      <td>28</td>\n",
       "    </tr>\n",
       "    <tr>\n",
       "      <th>1</th>\n",
       "      <td>post-covid19-test</td>\n",
       "      <td>52</td>\n",
       "      <td>19</td>\n",
       "    </tr>\n",
       "    <tr>\n",
       "      <th>2</th>\n",
       "      <td>vaccine_questionnaire</td>\n",
       "      <td>25</td>\n",
       "      <td>13</td>\n",
       "    </tr>\n",
       "  </tbody>\n",
       "</table>"
      ],
      "text/plain": [
       "<IPython.core.display.HTML object>"
      ]
     },
     "metadata": {},
     "output_type": "display_data"
    }
   ],
   "source": [
    "df = responses_df.groupby('QUESTIONNAIRE')[['QUESTIONNAIRE_ID', 'ALP_ID']].nunique().reset_index()\n",
    "df.columns = ['QUESTIONNAIRE', 'COUNT_SUBMISSIONS', 'COUNT_USERS']\n",
    "Display.frame(df)"
   ]
  }
 ],
 "metadata": {
  "kernelspec": {
   "display_name": "Python 3 (ipykernel)",
   "language": "python",
   "name": "python3"
  },
  "language_info": {
   "codemirror_mode": {
    "name": "ipython",
    "version": 3
   },
   "file_extension": ".py",
   "mimetype": "text/x-python",
   "name": "python",
   "nbconvert_exporter": "python",
   "pygments_lexer": "ipython3",
   "version": "3.8.1"
  }
 },
 "nbformat": 4,
 "nbformat_minor": 5
}
