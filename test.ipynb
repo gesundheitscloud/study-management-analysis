{
 "cells": [
  {
   "cell_type": "code",
   "execution_count": null,
   "id": "080a8308-4f87-4edb-a32a-3e80914749fd",
   "metadata": {},
   "outputs": [],
   "source": [
    "from pyqe import *\n",
    "from contextlib import redirect_stdout\n",
    "from lib.display import Display\n",
    "\n",
    "import io"
   ]
  },
  {
   "cell_type": "code",
   "execution_count": null,
   "id": "bc089622-34cd-401b-9cce-734048c17cb9",
   "metadata": {},
   "outputs": [],
   "source": [
    "dummy = Query('Step1') \n",
    "dummy.get_study_list()"
   ]
  },
  {
   "cell_type": "raw",
   "id": "fd4c7aae-9a34-45d7-9829-161121669fb2",
   "metadata": {},
   "source": [
    "Study Name - Study Id\n",
    "(1) Accept - a0cd02ce-6d1b-49f3-bc0e-14590c0249b3\n",
    "(2) Broad consent - 1b29380e-dfd2-4ada-b7cc-a6d8575a631d\n",
    "(3) CRONOS by DGPM - 5bc6be3d-1893-42ab-983c-b322f3daffe0\n",
    "(4) D4L patients registry - 427f7191-7458-49d3-8dc1-36a230f586c3\n",
    "(5) ECOV - 686d3b9b-b8fd-46ba-9e25-af48c027bb55\n",
    "(6) FeMFit - 3506d0d0-0c67-4983-b9ce-b4d0ea8daeac\n",
    "(7) User behavior - 9bf1a58d-85ba-4461-a46f-c8ca2a7bc1a3\n",
    "(8) VaccineEffectiveness - e2ff06fc-18da-49b7-826e-d198c239ac6a"
   ]
  },
  {
   "cell_type": "code",
   "execution_count": null,
   "id": "0e7b7429-4494-40b6-9f1c-2a8d4c1b67a5",
   "metadata": {},
   "outputs": [],
   "source": [
    "study_id = '3506d0d0-0c67-4983-b9ce-b4d0ea8daeac'\n",
    "\n",
    "dummy = Query('Step2') \n",
    "dummy.set_study(study_id)\n",
    "dummy.get_config_list()"
   ]
  },
  {
   "cell_type": "raw",
   "id": "f5eb69ec-dac5-4155-92ba-db4a8e23505f",
   "metadata": {},
   "source": [
    "Assignment Name, Config Name - Config Id\n",
    "(1) DEFAULT-ASSIGNMENT, OMOP_GDM_PA_CONF - 92d7c6f8-3118-4256-ab22-f2f7fd19d4e7"
   ]
  },
  {
   "cell_type": "code",
   "execution_count": null,
   "id": "4241edb4-57d7-4679-b6d7-4fddbcfa6a54",
   "metadata": {},
   "outputs": [],
   "source": [
    "from pyqe import *\n",
    "from IPython.display import display, HTML\n",
    "\n",
    "class Femfit():\n",
    "    STUDY_ID = '3506d0d0-0c67-4983-b9ce-b4d0ea8daeac'\n",
    "    CONFIG_ID = '903012b3-7c7b-4c96-a5b9-af38914b04b7'\n",
    "\n",
    "print('Participants table')\n",
    "query = Query('blabla')\n",
    "query.set_study(Femfit.STUDY_ID)\n",
    "query.set_study_config(Femfit.CONFIG_ID)\n",
    "query.add_filters([Person.Patient()]);\n",
    "request = query.get_dataframe_cohort(); # printing to screen\n",
    "df1 = Result().download_dataframe(request)\n",
    "display(HTML(df1[:5].to_html())) \n",
    "\n",
    "print('Responses table')\n",
    "query = Query('blabla')\n",
    "query.set_study(Femfit.STUDY_ID)\n",
    "query.set_study_config(Femfit.CONFIG_ID)\n",
    "query.add_filters([Interactions.Questionnaire(\"blabla\")]);\n",
    "request = query.get_dataframe_cohort(); # printing to screen\n",
    "df2 = Result().download_dataframe(request)\n",
    "display(HTML(df2[:5].to_html())) "
   ]
  },
  {
   "cell_type": "code",
   "execution_count": null,
   "id": "4589befa-5cfc-4303-bea4-282be1deb064",
   "metadata": {},
   "outputs": [],
   "source": [
    "# from datetime import datetime, timedelta\n",
    "\n",
    "# day = datetime(2022, 3, 21)\n",
    "# day = day + timedelta(days=7*12)\n",
    "# print(day)\n",
    "\n",
    "# day = datetime(2022, 3, 26)\n",
    "# day = day + timedelta(days=7*12)\n",
    "# print(day)"
   ]
  }
 ],
 "metadata": {
  "kernelspec": {
   "display_name": "Python 3 (ipykernel)",
   "language": "python",
   "name": "python3"
  },
  "language_info": {
   "codemirror_mode": {
    "name": "ipython",
    "version": 3
   },
   "file_extension": ".py",
   "mimetype": "text/x-python",
   "name": "python",
   "nbconvert_exporter": "python",
   "pygments_lexer": "ipython3",
   "version": "3.8.1"
  }
 },
 "nbformat": 4,
 "nbformat_minor": 5
}
