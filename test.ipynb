{
 "cells": [
  {
   "cell_type": "code",
   "execution_count": null,
   "id": "080a8308-4f87-4edb-a32a-3e80914749fd",
   "metadata": {},
   "outputs": [],
   "source": [
    "import io\n",
    "import os\n",
    "import sys\n",
    "import pandas as pd\n",
    "\n",
    "from pyqe import *\n",
    "from lib.display import Display\n",
    "\n",
    "print(f'pandas version: {pd.__version__}')"
   ]
  },
  {
   "cell_type": "code",
   "execution_count": null,
   "id": "bc089622-34cd-401b-9cce-734048c17cb9",
   "metadata": {},
   "outputs": [],
   "source": [
    "# Environment: SNG Staging\n",
    "dummy = Query('Step1') \n",
    "dummy.get_study_list()"
   ]
  },
  {
   "cell_type": "raw",
   "id": "fd4c7aae-9a34-45d7-9829-161121669fb2",
   "metadata": {},
   "source": [
    "Study Name - Study Id\n",
    "(1) Accept - a0cd02ce-6d1b-49f3-bc0e-14590c0249b3\n",
    "(2) Broad consent - 1b29380e-dfd2-4ada-b7cc-a6d8575a631d\n",
    "(3) CRONOS by DGPM - 5bc6be3d-1893-42ab-983c-b322f3daffe0\n",
    "(4) D4L patients registry - 427f7191-7458-49d3-8dc1-36a230f586c3\n",
    "(5) ECOV - 686d3b9b-b8fd-46ba-9e25-af48c027bb55\n",
    "(6) FeMFit - 3506d0d0-0c67-4983-b9ce-b4d0ea8daeac\n",
    "(7) User behavior - 9bf1a58d-85ba-4461-a46f-c8ca2a7bc1a3\n",
    "(8) VaccineEffectiveness - e2ff06fc-18da-49b7-826e-d198c239ac6a"
   ]
  },
  {
   "cell_type": "code",
   "execution_count": null,
   "id": "0e7b7429-4494-40b6-9f1c-2a8d4c1b67a5",
   "metadata": {},
   "outputs": [],
   "source": [
    "study_id = '3506d0d0-0c67-4983-b9ce-b4d0ea8daeac'\n",
    "\n",
    "dummy = Query('Step2') \n",
    "dummy.set_study(study_id)\n",
    "dummy.get_config_list()"
   ]
  },
  {
   "cell_type": "raw",
   "id": "f5eb69ec-dac5-4155-92ba-db4a8e23505f",
   "metadata": {},
   "source": [
    "Assignment Name, Config Name - Config Id\n",
    "(1) DEFAULT-ASSIGNMENT, OMOP_GDM_PA_CONF - 92d7c6f8-3118-4256-ab22-f2f7fd19d4e7\n",
    "(2) GDM_DM_Config, GDM_PA_CONF - 903012b3-7c7b-4c96-a5b9-af38914b04b7"
   ]
  },
  {
   "cell_type": "code",
   "execution_count": null,
   "id": "4241edb4-57d7-4679-b6d7-4fddbcfa6a54",
   "metadata": {},
   "outputs": [],
   "source": [
    "from pyqe import *\n",
    "from IPython.display import display, HTML        \n",
    "\n",
    "class Femfit():\n",
    "    STUDY_ID = '3506d0d0-0c67-4983-b9ce-b4d0ea8daeac'\n",
    "    CONFIG_ID = '903012b3-7c7b-4c96-a5b9-af38914b04b7'\n",
    "\n",
    "display(HTML('<h3>%s</h3>' % 'Participants table'))\n",
    "query = Query('blabla')\n",
    "query.set_study(Femfit.STUDY_ID)\n",
    "query.set_study_config(Femfit.CONFIG_ID)\n",
    "query.add_filters([Person.Patient()]);\n",
    "request = query.get_dataframe_cohort(); # printing to screen\n",
    "df1 = Result().download_dataframe(request)\n",
    "display(HTML(df1[:5].to_html())) \n",
    "\n",
    "display(HTML('<h3>%s</h3>' % 'Responses table'))\n",
    "query = Query('blabla')\n",
    "query.set_study(Femfit.STUDY_ID)\n",
    "query.set_study_config(Femfit.CONFIG_ID)\n",
    "query.add_filters([Interactions.Questionnaire(\"blabla\")]);\n",
    "request = query.get_dataframe_cohort(); # printing to screen\n",
    "df2 = Result().download_dataframe(request)\n",
    "display(HTML(df2[:5].to_html())) \n",
    "\n",
    "display(HTML('<h3>%s</h3>' % 'Wearables table'))\n",
    "query = Query('blabla')\n",
    "query.set_study(Femfit.STUDY_ID)\n",
    "query.set_study_config(Femfit.CONFIG_ID)\n",
    "d = query.get_entities_dataframe_cohort([\n",
    "    'patient.interactions.observation.attributes.obsid',\n",
    "    'patient.interactions.observation.attributes.obsdate',\n",
    "    'patient.interactions.observation.attributes.pid', \n",
    "    'patient.interactions.observation.attributes.obsconceptcode',\n",
    "    'patient.interactions.observation.attributes.obsname',\n",
    "    'patient.interactions.observation.attributes.numval',\n",
    "    'patient.interactions.observation.attributes.unit',\n",
    "])\n",
    "r = Result().download_all_entities_dataframe(d)\n",
    "df3 = r['observation']\n",
    "display(HTML(df3[:5].to_html())) "
   ]
  },
  {
   "cell_type": "code",
   "execution_count": 5,
   "id": "a7d79353-3d23-4d33-b8d2-8b360d73c60c",
   "metadata": {},
   "outputs": [
    {
     "data": {
      "text/html": [
       "<h2>Participants</h2>"
      ],
      "text/plain": [
       "<IPython.core.display.HTML object>"
      ]
     },
     "metadata": {},
     "output_type": "display_data"
    },
    {
     "data": {
      "text/html": [
       "<table border=\"1\" class=\"dataframe\">\n",
       "  <thead>\n",
       "    <tr style=\"text-align: right;\">\n",
       "      <th></th>\n",
       "      <th>ALP_ID</th>\n",
       "      <th>EXTERNAL_ID</th>\n",
       "      <th>STATUS</th>\n",
       "      <th>START_DATE</th>\n",
       "      <th>END_DATE</th>\n",
       "    </tr>\n",
       "  </thead>\n",
       "  <tbody>\n",
       "    <tr>\n",
       "      <th>0</th>\n",
       "      <td>12255</td>\n",
       "      <td>Participant_26</td>\n",
       "      <td>enrolled</td>\n",
       "      <td>2022-03-16</td>\n",
       "      <td>NaT</td>\n",
       "    </tr>\n",
       "    <tr>\n",
       "      <th>1</th>\n",
       "      <td>12373</td>\n",
       "      <td>Participant_13</td>\n",
       "      <td>enrolled</td>\n",
       "      <td>2022-03-15</td>\n",
       "      <td>NaT</td>\n",
       "    </tr>\n",
       "    <tr>\n",
       "      <th>2</th>\n",
       "      <td>10116</td>\n",
       "      <td>Participant_04</td>\n",
       "      <td>enrolled</td>\n",
       "      <td>2022-01-14</td>\n",
       "      <td>NaT</td>\n",
       "    </tr>\n",
       "    <tr>\n",
       "      <th>3</th>\n",
       "      <td>10158</td>\n",
       "      <td>Participant_07</td>\n",
       "      <td>enrolled</td>\n",
       "      <td>2022-01-27</td>\n",
       "      <td>NaT</td>\n",
       "    </tr>\n",
       "    <tr>\n",
       "      <th>4</th>\n",
       "      <td>12558</td>\n",
       "      <td>Participant_33</td>\n",
       "      <td>enrolled</td>\n",
       "      <td>2022-03-22</td>\n",
       "      <td>NaT</td>\n",
       "    </tr>\n",
       "  </tbody>\n",
       "</table>"
      ],
      "text/plain": [
       "<IPython.core.display.HTML object>"
      ]
     },
     "metadata": {},
     "output_type": "display_data"
    },
    {
     "data": {
      "text/html": [
       "<h2>Responses</h2>"
      ],
      "text/plain": [
       "<IPython.core.display.HTML object>"
      ]
     },
     "metadata": {},
     "output_type": "display_data"
    },
    {
     "data": {
      "text/html": [
       "<table border=\"1\" class=\"dataframe\">\n",
       "  <thead>\n",
       "    <tr style=\"text-align: right;\">\n",
       "      <th></th>\n",
       "      <th>ALP_ID</th>\n",
       "      <th>VERSION</th>\n",
       "      <th>AUTHORED</th>\n",
       "      <th>QUESTIONNAIRE</th>\n",
       "      <th>LINK_ID</th>\n",
       "      <th>VALUE</th>\n",
       "      <th>VALUECODING_CODE</th>\n",
       "      <th>LANGUAGE</th>\n",
       "      <th>TEXT</th>\n",
       "      <th>QUESTIONNAIRE_ID</th>\n",
       "    </tr>\n",
       "  </thead>\n",
       "  <tbody>\n",
       "    <tr>\n",
       "      <th>0</th>\n",
       "      <td>8557</td>\n",
       "      <td>1.0.0</td>\n",
       "      <td>2022-01-07</td>\n",
       "      <td>Q2_physical_wellbeing_and_activity</td>\n",
       "      <td>satisfaction_ physical_activity</td>\n",
       "      <td>NaN</td>\n",
       "      <td>moving_4_good</td>\n",
       "      <td>de</td>\n",
       "      <td>Wie gut kÃ¶nnen Sie sich bewegen (z.B. gehen, Treppen steigen)?</td>\n",
       "      <td>aNo7a6cEAVLIctP7GSGhPaUieIhAhor+K7Dtvzu0rxNW6y8+O4n/SRVF+StNOYE0dKnlEfj8C5xlR7pxL6CWJCmj2lmgoVcuty33F8uZ4hXrv8rduc3etNnSMBxeaZgQpWAKJ7f09gMZUb0C7zpIJi40P39fafyTmOOV54U7XMqNSh9FiBy+WLBc5ex6+6N1ULktuDutQAcXcR2m2Hw8koBt26Yd+Uo81SkwpHxYjOUA1ZANTkSnjTZqXJma/LT1+7klJjUa6enH5A7tTp93NOvjJ335cY6pXIlqOmWwXKoOTWZ4YVlVnTr51ZAJauvJyr6cee7yIgKNeItCwqRPuA==</td>\n",
       "    </tr>\n",
       "    <tr>\n",
       "      <th>1</th>\n",
       "      <td>8557</td>\n",
       "      <td>1.0.0</td>\n",
       "      <td>2022-01-07</td>\n",
       "      <td>Q2_physical_wellbeing_and_activity</td>\n",
       "      <td>wearing_fitbit_yes_no</td>\n",
       "      <td>NaN</td>\n",
       "      <td>yes</td>\n",
       "      <td>de</td>\n",
       "      <td>Haben Sie das Fitbit-Armband kontinuierlich getragen (besonders auch nachts, wÃ¤hrend Bewegung, etc)?</td>\n",
       "      <td>aNo7a6cEAVLIctP7GSGhPaUieIhAhor+K7Dtvzu0rxNW6y8+O4n/SRVF+StNOYE0dKnlEfj8C5xlR7pxL6CWJCmj2lmgoVcuty33F8uZ4hXrv8rduc3etNnSMBxeaZgQpWAKJ7f09gMZUb0C7zpIJi40P39fafyTmOOV54U7XMqNSh9FiBy+WLBc5ex6+6N1ULktuDutQAcXcR2m2Hw8koBt26Yd+Uo81SkwpHxYjOUA1ZANTkSnjTZqXJma/LT1+7klJjUa6enH5A7tTp93NOvjJ335cY6pXIlqOmWwXKoOTWZ4YVlVnTr51ZAJauvJyr6cee7yIgKNeItCwqRPuA==</td>\n",
       "    </tr>\n",
       "    <tr>\n",
       "      <th>2</th>\n",
       "      <td>8557</td>\n",
       "      <td>1.0.0</td>\n",
       "      <td>2022-01-07</td>\n",
       "      <td>Q2_physical_wellbeing_and_activity</td>\n",
       "      <td>satisfaction_sleep</td>\n",
       "      <td>NaN</td>\n",
       "      <td>satisfaction_2_unhappy</td>\n",
       "      <td>de</td>\n",
       "      <td>Wie zufrieden sind Sie mit Ihrem Schlaf?</td>\n",
       "      <td>aNo7a6cEAVLIctP7GSGhPaUieIhAhor+K7Dtvzu0rxNW6y8+O4n/SRVF+StNOYE0dKnlEfj8C5xlR7pxL6CWJCmj2lmgoVcuty33F8uZ4hXrv8rduc3etNnSMBxeaZgQpWAKJ7f09gMZUb0C7zpIJi40P39fafyTmOOV54U7XMqNSh9FiBy+WLBc5ex6+6N1ULktuDutQAcXcR2m2Hw8koBt26Yd+Uo81SkwpHxYjOUA1ZANTkSnjTZqXJma/LT1+7klJjUa6enH5A7tTp93NOvjJ335cY6pXIlqOmWwXKoOTWZ4YVlVnTr51ZAJauvJyr6cee7yIgKNeItCwqRPuA==</td>\n",
       "    </tr>\n",
       "    <tr>\n",
       "      <th>3</th>\n",
       "      <td>8557</td>\n",
       "      <td>1.0.0</td>\n",
       "      <td>2022-01-07</td>\n",
       "      <td>Q2_physical_wellbeing_and_activity</td>\n",
       "      <td>satisfaction_health</td>\n",
       "      <td>NaN</td>\n",
       "      <td>satisfaction_2_unhappy</td>\n",
       "      <td>de</td>\n",
       "      <td>Wie zufrieden sind Sie mit Ihrer Gesundheit?</td>\n",
       "      <td>aNo7a6cEAVLIctP7GSGhPaUieIhAhor+K7Dtvzu0rxNW6y8+O4n/SRVF+StNOYE0dKnlEfj8C5xlR7pxL6CWJCmj2lmgoVcuty33F8uZ4hXrv8rduc3etNnSMBxeaZgQpWAKJ7f09gMZUb0C7zpIJi40P39fafyTmOOV54U7XMqNSh9FiBy+WLBc5ex6+6N1ULktuDutQAcXcR2m2Hw8koBt26Yd+Uo81SkwpHxYjOUA1ZANTkSnjTZqXJma/LT1+7klJjUa6enH5A7tTp93NOvjJ335cY6pXIlqOmWwXKoOTWZ4YVlVnTr51ZAJauvJyr6cee7yIgKNeItCwqRPuA==</td>\n",
       "    </tr>\n",
       "    <tr>\n",
       "      <th>4</th>\n",
       "      <td>8557</td>\n",
       "      <td>1.0.0</td>\n",
       "      <td>2022-01-07</td>\n",
       "      <td>Q2_physical_wellbeing_and_activity</td>\n",
       "      <td>satisfaction_feelings</td>\n",
       "      <td>NaN</td>\n",
       "      <td>frequency_3_occasionally</td>\n",
       "      <td>de</td>\n",
       "      <td>Wie hÃ¤ufig haben Sie negative GefÃ¼hle wie Traurigkeit, Verzweiflung oder Angst?</td>\n",
       "      <td>aNo7a6cEAVLIctP7GSGhPaUieIhAhor+K7Dtvzu0rxNW6y8+O4n/SRVF+StNOYE0dKnlEfj8C5xlR7pxL6CWJCmj2lmgoVcuty33F8uZ4hXrv8rduc3etNnSMBxeaZgQpWAKJ7f09gMZUb0C7zpIJi40P39fafyTmOOV54U7XMqNSh9FiBy+WLBc5ex6+6N1ULktuDutQAcXcR2m2Hw8koBt26Yd+Uo81SkwpHxYjOUA1ZANTkSnjTZqXJma/LT1+7klJjUa6enH5A7tTp93NOvjJ335cY6pXIlqOmWwXKoOTWZ4YVlVnTr51ZAJauvJyr6cee7yIgKNeItCwqRPuA==</td>\n",
       "    </tr>\n",
       "  </tbody>\n",
       "</table>"
      ],
      "text/plain": [
       "<IPython.core.display.HTML object>"
      ]
     },
     "metadata": {},
     "output_type": "display_data"
    },
    {
     "data": {
      "text/html": [
       "<h2>Wearables</h2>"
      ],
      "text/plain": [
       "<IPython.core.display.HTML object>"
      ]
     },
     "metadata": {},
     "output_type": "display_data"
    },
    {
     "data": {
      "text/html": [
       "<table border=\"1\" class=\"dataframe\">\n",
       "  <thead>\n",
       "    <tr style=\"text-align: right;\">\n",
       "      <th></th>\n",
       "      <th>WEARABLE_ID</th>\n",
       "      <th>AUTHORED</th>\n",
       "      <th>ALP_ID</th>\n",
       "      <th>WEARABLE_TYPE</th>\n",
       "      <th>WEARABLE_NAME</th>\n",
       "      <th>VALUE</th>\n",
       "      <th>UNIT</th>\n",
       "    </tr>\n",
       "  </thead>\n",
       "  <tbody>\n",
       "    <tr>\n",
       "      <th>0</th>\n",
       "      <td>38</td>\n",
       "      <td>2021-12-26</td>\n",
       "      <td>8557</td>\n",
       "      <td>93832-4</td>\n",
       "      <td>Sleep duration</td>\n",
       "      <td>320.0</td>\n",
       "      <td>minute</td>\n",
       "    </tr>\n",
       "    <tr>\n",
       "      <th>1</th>\n",
       "      <td>47</td>\n",
       "      <td>2022-01-01</td>\n",
       "      <td>8557</td>\n",
       "      <td>No matching concept</td>\n",
       "      <td>No matching concept</td>\n",
       "      <td>60.0</td>\n",
       "      <td>per minute</td>\n",
       "    </tr>\n",
       "    <tr>\n",
       "      <th>2</th>\n",
       "      <td>22</td>\n",
       "      <td>2021-12-26</td>\n",
       "      <td>8557</td>\n",
       "      <td>93832-4</td>\n",
       "      <td>Sleep duration</td>\n",
       "      <td>110.0</td>\n",
       "      <td>minute</td>\n",
       "    </tr>\n",
       "    <tr>\n",
       "      <th>3</th>\n",
       "      <td>8</td>\n",
       "      <td>2021-12-25</td>\n",
       "      <td>8557</td>\n",
       "      <td>41950-7</td>\n",
       "      <td>Number of steps in 24 hour Measured</td>\n",
       "      <td>10000.0</td>\n",
       "      <td>per 24 hours</td>\n",
       "    </tr>\n",
       "    <tr>\n",
       "      <th>4</th>\n",
       "      <td>36</td>\n",
       "      <td>2021-12-27</td>\n",
       "      <td>8557</td>\n",
       "      <td>No matching concept</td>\n",
       "      <td>No matching concept</td>\n",
       "      <td>60.0</td>\n",
       "      <td>per minute</td>\n",
       "    </tr>\n",
       "    <tr>\n",
       "      <th>5</th>\n",
       "      <td>56</td>\n",
       "      <td>2022-01-10</td>\n",
       "      <td>8557</td>\n",
       "      <td>93832-4</td>\n",
       "      <td>Sleep duration</td>\n",
       "      <td>350.0</td>\n",
       "      <td>minute</td>\n",
       "    </tr>\n",
       "    <tr>\n",
       "      <th>6</th>\n",
       "      <td>14</td>\n",
       "      <td>2021-12-26</td>\n",
       "      <td>8557</td>\n",
       "      <td>No matching concept</td>\n",
       "      <td>No matching concept</td>\n",
       "      <td>60.0</td>\n",
       "      <td>per minute</td>\n",
       "    </tr>\n",
       "    <tr>\n",
       "      <th>7</th>\n",
       "      <td>65</td>\n",
       "      <td>2021-12-28</td>\n",
       "      <td>8557</td>\n",
       "      <td>No matching concept</td>\n",
       "      <td>No matching concept</td>\n",
       "      <td>60.0</td>\n",
       "      <td>per minute</td>\n",
       "    </tr>\n",
       "    <tr>\n",
       "      <th>8</th>\n",
       "      <td>76</td>\n",
       "      <td>2022-01-08</td>\n",
       "      <td>8557</td>\n",
       "      <td>41950-7</td>\n",
       "      <td>Number of steps in 24 hour Measured</td>\n",
       "      <td>13500.0</td>\n",
       "      <td>per 24 hours</td>\n",
       "    </tr>\n",
       "    <tr>\n",
       "      <th>9</th>\n",
       "      <td>59</td>\n",
       "      <td>2021-12-29</td>\n",
       "      <td>8557</td>\n",
       "      <td>No matching concept</td>\n",
       "      <td>No matching concept</td>\n",
       "      <td>60.0</td>\n",
       "      <td>per minute</td>\n",
       "    </tr>\n",
       "  </tbody>\n",
       "</table>"
      ],
      "text/plain": [
       "<IPython.core.display.HTML object>"
      ]
     },
     "metadata": {},
     "output_type": "display_data"
    }
   ],
   "source": [
    "from lib.database import Database\n",
    "from lib.schema import Schema\n",
    "from lib.display import Display\n",
    "\n",
    "db = Database(Schema.FEMFIT)\n",
    "\n",
    "Display.header('Participants', 'h2')\n",
    "Display.frame(db.get_participants(), 5)\n",
    "\n",
    "Display.header('Responses', 'h2')\n",
    "Display.frame(db.get_responses(), 5)\n",
    "    \n",
    "Display.header('Wearables', 'h2')\n",
    "Display.frame(db.get_wearables(), 10)"
   ]
  },
  {
   "cell_type": "code",
   "execution_count": 6,
   "id": "2e6590b6-f122-4300-ba90-e3ea35fa3f78",
   "metadata": {},
   "outputs": [
    {
     "data": {
      "text/html": [
       "<h1>Column names</h1>"
      ],
      "text/plain": [
       "<IPython.core.display.HTML object>"
      ]
     },
     "metadata": {},
     "output_type": "display_data"
    },
    {
     "data": {
      "text/html": [
       "<h2>Participants table</h2>"
      ],
      "text/plain": [
       "<IPython.core.display.HTML object>"
      ]
     },
     "metadata": {},
     "output_type": "display_data"
    },
    {
     "name": "stdout",
     "output_type": "stream",
     "text": [
      "ALP_ID\n",
      "EXTERNAL_ID\n",
      "STATUS\n",
      "START_DATE\n",
      "END_DATE\n"
     ]
    },
    {
     "data": {
      "text/html": [
       "<h2>Responses table</h2>"
      ],
      "text/plain": [
       "<IPython.core.display.HTML object>"
      ]
     },
     "metadata": {},
     "output_type": "display_data"
    },
    {
     "name": "stdout",
     "output_type": "stream",
     "text": [
      "ALP_ID\n",
      "VERSION\n",
      "AUTHORED\n",
      "QUESTIONNAIRE\n",
      "LINK_ID\n",
      "VALUE\n",
      "VALUECODING_CODE\n",
      "LANGUAGE\n",
      "TEXT\n",
      "QUESTIONNAIRE_ID\n"
     ]
    },
    {
     "data": {
      "text/html": [
       "<h2>Wearables table</h2>"
      ],
      "text/plain": [
       "<IPython.core.display.HTML object>"
      ]
     },
     "metadata": {},
     "output_type": "display_data"
    },
    {
     "name": "stdout",
     "output_type": "stream",
     "text": [
      "WEARABLE_ID\n",
      "AUTHORED\n",
      "ALP_ID\n",
      "WEARABLE_TYPE\n",
      "WEARABLE_NAME\n",
      "VALUE\n",
      "UNIT\n"
     ]
    }
   ],
   "source": [
    "Display.header('Column names', 'h1')\n",
    "\n",
    "Display.header('Participants table', 'h2')\n",
    "for col in db.get_participants().columns:\n",
    "    print(col)\n",
    "    \n",
    "Display.header('Responses table', 'h2')\n",
    "for col in db.get_responses().columns:\n",
    "    print(col)\n",
    "    \n",
    "Display.header('Wearables table', 'h2')\n",
    "for col in db.get_wearables().columns:\n",
    "    print(col)"
   ]
  }
 ],
 "metadata": {
  "kernelspec": {
   "display_name": "Python 3 (ipykernel)",
   "language": "python",
   "name": "python3"
  },
  "language_info": {
   "codemirror_mode": {
    "name": "ipython",
    "version": 3
   },
   "file_extension": ".py",
   "mimetype": "text/x-python",
   "name": "python",
   "nbconvert_exporter": "python",
   "pygments_lexer": "ipython3",
   "version": "3.8.1"
  }
 },
 "nbformat": 4,
 "nbformat_minor": 5
}
